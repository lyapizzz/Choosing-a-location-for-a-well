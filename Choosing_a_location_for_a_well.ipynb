{
 "cells": [
  {
   "cell_type": "markdown",
   "metadata": {},
   "source": [
    "# Выбор локации для скважины"
   ]
  },
  {
   "cell_type": "markdown",
   "metadata": {},
   "source": [
    "Нужно решить, где бурить новую скважину.\n",
    "\n",
    "Вам предоставлены пробы нефти в трёх регионах: в каждом 10 000 месторождений, где измерили качество нефти и объём её запасов. Постройте модель машинного обучения, которая поможет определить регион, где добыча принесёт наибольшую прибыль. Проанализируйте возможную прибыль и риски техникой *Bootstrap.*\n",
    "\n",
    "Шаги для выбора локации:\n",
    "\n",
    "- В избранном регионе ищут месторождения, для каждого определяют значения признаков;\n",
    "- Строят модель и оценивают объём запасов;\n",
    "- Выбирают месторождения с самым высокими оценками значений. Количество месторождений зависит от бюджета компании и стоимости разработки одной скважины;\n",
    "- Прибыль равна суммарной прибыли отобранных месторождений."
   ]
  },
  {
   "cell_type": "markdown",
   "metadata": {},
   "source": [
    "## Загрузка и подготовка данных"
   ]
  },
  {
   "cell_type": "markdown",
   "metadata": {},
   "source": [
    "### Для начала откроем все необходимые библиотеки"
   ]
  },
  {
   "cell_type": "code",
   "execution_count": 1,
   "metadata": {},
   "outputs": [],
   "source": [
    "import pandas as pd\n",
    "from sklearn.model_selection import train_test_split\n",
    "from sklearn.preprocessing import StandardScaler \n",
    "from sklearn.metrics import mean_squared_error\n",
    "from sklearn.linear_model import LinearRegression\n",
    "import numpy as np\n",
    "import matplotlib.pyplot as plt\n",
    "from scipy import stats as st\n",
    "import seaborn as sns\n",
    "import warnings"
   ]
  },
  {
   "cell_type": "markdown",
   "metadata": {},
   "source": [
    "### Запишем константны"
   ]
  },
  {
   "cell_type": "code",
   "execution_count": 2,
   "metadata": {},
   "outputs": [],
   "source": [
    "RANDOM_STATE = 10000\n",
    "bar_price = 450000\n",
    "budget = 10e9\n",
    "count_well = 200\n",
    "state = np.random.RandomState(RANDOM_STATE)\n",
    "blue = '#069af3'\n",
    "green = '#7eb54e'\n",
    "red = '#ef4026'"
   ]
  },
  {
   "cell_type": "markdown",
   "metadata": {},
   "source": [
    "- bar_price - цена за 1000 баррелей\n",
    "- budget - общий бюджет на разработку скважин\n",
    "- count_well - количество скважин\n",
    "- red, green, blue - цвета для будующих графиков"
   ]
  },
  {
   "cell_type": "markdown",
   "metadata": {},
   "source": [
    "### Теперь откроем и посмотрим файлы"
   ]
  },
  {
   "cell_type": "code",
   "execution_count": 3,
   "metadata": {},
   "outputs": [],
   "source": [
    "data_0 = pd.read_csv('/datasets/geo_data_0.csv')\n",
    "data_1 = pd.read_csv('/datasets/geo_data_1.csv')\n",
    "data_2 = pd.read_csv('/datasets/geo_data_2.csv')"
   ]
  },
  {
   "cell_type": "code",
   "execution_count": 4,
   "metadata": {},
   "outputs": [
    {
     "name": "stdout",
     "output_type": "stream",
     "text": [
      "<class 'pandas.core.frame.DataFrame'>\n",
      "RangeIndex: 100000 entries, 0 to 99999\n",
      "Data columns (total 5 columns):\n",
      " #   Column   Non-Null Count   Dtype  \n",
      "---  ------   --------------   -----  \n",
      " 0   id       100000 non-null  object \n",
      " 1   f0       100000 non-null  float64\n",
      " 2   f1       100000 non-null  float64\n",
      " 3   f2       100000 non-null  float64\n",
      " 4   product  100000 non-null  float64\n",
      "dtypes: float64(4), object(1)\n",
      "memory usage: 3.8+ MB\n"
     ]
    },
    {
     "data": {
      "text/html": [
       "<div>\n",
       "<style scoped>\n",
       "    .dataframe tbody tr th:only-of-type {\n",
       "        vertical-align: middle;\n",
       "    }\n",
       "\n",
       "    .dataframe tbody tr th {\n",
       "        vertical-align: top;\n",
       "    }\n",
       "\n",
       "    .dataframe thead th {\n",
       "        text-align: right;\n",
       "    }\n",
       "</style>\n",
       "<table border=\"1\" class=\"dataframe\">\n",
       "  <thead>\n",
       "    <tr style=\"text-align: right;\">\n",
       "      <th></th>\n",
       "      <th>id</th>\n",
       "      <th>f0</th>\n",
       "      <th>f1</th>\n",
       "      <th>f2</th>\n",
       "      <th>product</th>\n",
       "    </tr>\n",
       "  </thead>\n",
       "  <tbody>\n",
       "    <tr>\n",
       "      <th>0</th>\n",
       "      <td>txEyH</td>\n",
       "      <td>0.705745</td>\n",
       "      <td>-0.497823</td>\n",
       "      <td>1.221170</td>\n",
       "      <td>105.280062</td>\n",
       "    </tr>\n",
       "    <tr>\n",
       "      <th>1</th>\n",
       "      <td>2acmU</td>\n",
       "      <td>1.334711</td>\n",
       "      <td>-0.340164</td>\n",
       "      <td>4.365080</td>\n",
       "      <td>73.037750</td>\n",
       "    </tr>\n",
       "    <tr>\n",
       "      <th>2</th>\n",
       "      <td>409Wp</td>\n",
       "      <td>1.022732</td>\n",
       "      <td>0.151990</td>\n",
       "      <td>1.419926</td>\n",
       "      <td>85.265647</td>\n",
       "    </tr>\n",
       "    <tr>\n",
       "      <th>3</th>\n",
       "      <td>iJLyR</td>\n",
       "      <td>-0.032172</td>\n",
       "      <td>0.139033</td>\n",
       "      <td>2.978566</td>\n",
       "      <td>168.620776</td>\n",
       "    </tr>\n",
       "    <tr>\n",
       "      <th>4</th>\n",
       "      <td>Xdl7t</td>\n",
       "      <td>1.988431</td>\n",
       "      <td>0.155413</td>\n",
       "      <td>4.751769</td>\n",
       "      <td>154.036647</td>\n",
       "    </tr>\n",
       "  </tbody>\n",
       "</table>\n",
       "</div>"
      ],
      "text/plain": [
       "      id        f0        f1        f2     product\n",
       "0  txEyH  0.705745 -0.497823  1.221170  105.280062\n",
       "1  2acmU  1.334711 -0.340164  4.365080   73.037750\n",
       "2  409Wp  1.022732  0.151990  1.419926   85.265647\n",
       "3  iJLyR -0.032172  0.139033  2.978566  168.620776\n",
       "4  Xdl7t  1.988431  0.155413  4.751769  154.036647"
      ]
     },
     "execution_count": 4,
     "metadata": {},
     "output_type": "execute_result"
    }
   ],
   "source": [
    "data_0.info()\n",
    "data_0.head()"
   ]
  },
  {
   "cell_type": "code",
   "execution_count": 5,
   "metadata": {},
   "outputs": [
    {
     "data": {
      "text/plain": [
       "<AxesSubplot:>"
      ]
     },
     "execution_count": 5,
     "metadata": {},
     "output_type": "execute_result"
    },
    {
     "data": {
      "image/png": "[encoded data removed]",
      "text/plain": [
       "<Figure size 432x288 with 1 Axes>"
      ]
     },
     "metadata": {
      "needs_background": "light"
     },
     "output_type": "display_data"
    }
   ],
   "source": [
    "data_0['product'].hist()"
   ]
  },
  {
   "cell_type": "code",
   "execution_count": 6,
   "metadata": {},
   "outputs": [
    {
     "name": "stdout",
     "output_type": "stream",
     "text": [
      "<class 'pandas.core.frame.DataFrame'>\n",
      "RangeIndex: 100000 entries, 0 to 99999\n",
      "Data columns (total 5 columns):\n",
      " #   Column   Non-Null Count   Dtype  \n",
      "---  ------   --------------   -----  \n",
      " 0   id       100000 non-null  object \n",
      " 1   f0       100000 non-null  float64\n",
      " 2   f1       100000 non-null  float64\n",
      " 3   f2       100000 non-null  float64\n",
      " 4   product  100000 non-null  float64\n",
      "dtypes: float64(4), object(1)\n",
      "memory usage: 3.8+ MB\n"
     ]
    },
    {
     "data": {
      "text/html": [
       "<div>\n",
       "<style scoped>\n",
       "    .dataframe tbody tr th:only-of-type {\n",
       "        vertical-align: middle;\n",
       "    }\n",
       "\n",
       "    .dataframe tbody tr th {\n",
       "        vertical-align: top;\n",
       "    }\n",
       "\n",
       "    .dataframe thead th {\n",
       "        text-align: right;\n",
       "    }\n",
       "</style>\n",
       "<table border=\"1\" class=\"dataframe\">\n",
       "  <thead>\n",
       "    <tr style=\"text-align: right;\">\n",
       "      <th></th>\n",
       "      <th>id</th>\n",
       "      <th>f0</th>\n",
       "      <th>f1</th>\n",
       "      <th>f2</th>\n",
       "      <th>product</th>\n",
       "    </tr>\n",
       "  </thead>\n",
       "  <tbody>\n",
       "    <tr>\n",
       "      <th>0</th>\n",
       "      <td>kBEdx</td>\n",
       "      <td>-15.001348</td>\n",
       "      <td>-8.276000</td>\n",
       "      <td>-0.005876</td>\n",
       "      <td>3.179103</td>\n",
       "    </tr>\n",
       "    <tr>\n",
       "      <th>1</th>\n",
       "      <td>62mP7</td>\n",
       "      <td>14.272088</td>\n",
       "      <td>-3.475083</td>\n",
       "      <td>0.999183</td>\n",
       "      <td>26.953261</td>\n",
       "    </tr>\n",
       "    <tr>\n",
       "      <th>2</th>\n",
       "      <td>vyE1P</td>\n",
       "      <td>6.263187</td>\n",
       "      <td>-5.948386</td>\n",
       "      <td>5.001160</td>\n",
       "      <td>134.766305</td>\n",
       "    </tr>\n",
       "    <tr>\n",
       "      <th>3</th>\n",
       "      <td>KcrkZ</td>\n",
       "      <td>-13.081196</td>\n",
       "      <td>-11.506057</td>\n",
       "      <td>4.999415</td>\n",
       "      <td>137.945408</td>\n",
       "    </tr>\n",
       "    <tr>\n",
       "      <th>4</th>\n",
       "      <td>AHL4O</td>\n",
       "      <td>12.702195</td>\n",
       "      <td>-8.147433</td>\n",
       "      <td>5.004363</td>\n",
       "      <td>134.766305</td>\n",
       "    </tr>\n",
       "  </tbody>\n",
       "</table>\n",
       "</div>"
      ],
      "text/plain": [
       "      id         f0         f1        f2     product\n",
       "0  kBEdx -15.001348  -8.276000 -0.005876    3.179103\n",
       "1  62mP7  14.272088  -3.475083  0.999183   26.953261\n",
       "2  vyE1P   6.263187  -5.948386  5.001160  134.766305\n",
       "3  KcrkZ -13.081196 -11.506057  4.999415  137.945408\n",
       "4  AHL4O  12.702195  -8.147433  5.004363  134.766305"
      ]
     },
     "execution_count": 6,
     "metadata": {},
     "output_type": "execute_result"
    }
   ],
   "source": [
    "data_1.info()\n",
    "data_1.head()"
   ]
  },
  {
   "cell_type": "code",
   "execution_count": 7,
   "metadata": {},
   "outputs": [
    {
     "data": {
      "text/plain": [
       "<AxesSubplot:>"
      ]
     },
     "execution_count": 7,
     "metadata": {},
     "output_type": "execute_result"
    },
    {
     "data": {
      "image/png": "[encoded data removed]",
      "text/plain": [
       "<Figure size 432x288 with 1 Axes>"
      ]
     },
     "metadata": {
      "needs_background": "light"
     },
     "output_type": "display_data"
    }
   ],
   "source": [
    "data_1['product'].hist()"
   ]
  },
  {
   "cell_type": "code",
   "execution_count": 8,
   "metadata": {},
   "outputs": [
    {
     "name": "stdout",
     "output_type": "stream",
     "text": [
      "<class 'pandas.core.frame.DataFrame'>\n",
      "RangeIndex: 100000 entries, 0 to 99999\n",
      "Data columns (total 5 columns):\n",
      " #   Column   Non-Null Count   Dtype  \n",
      "---  ------   --------------   -----  \n",
      " 0   id       100000 non-null  object \n",
      " 1   f0       100000 non-null  float64\n",
      " 2   f1       100000 non-null  float64\n",
      " 3   f2       100000 non-null  float64\n",
      " 4   product  100000 non-null  float64\n",
      "dtypes: float64(4), object(1)\n",
      "memory usage: 3.8+ MB\n"
     ]
    },
    {
     "data": {
      "text/html": [
       "<div>\n",
       "<style scoped>\n",
       "    .dataframe tbody tr th:only-of-type {\n",
       "        vertical-align: middle;\n",
       "    }\n",
       "\n",
       "    .dataframe tbody tr th {\n",
       "        vertical-align: top;\n",
       "    }\n",
       "\n",
       "    .dataframe thead th {\n",
       "        text-align: right;\n",
       "    }\n",
       "</style>\n",
       "<table border=\"1\" class=\"dataframe\">\n",
       "  <thead>\n",
       "    <tr style=\"text-align: right;\">\n",
       "      <th></th>\n",
       "      <th>id</th>\n",
       "      <th>f0</th>\n",
       "      <th>f1</th>\n",
       "      <th>f2</th>\n",
       "      <th>product</th>\n",
       "    </tr>\n",
       "  </thead>\n",
       "  <tbody>\n",
       "    <tr>\n",
       "      <th>0</th>\n",
       "      <td>fwXo0</td>\n",
       "      <td>-1.146987</td>\n",
       "      <td>0.963328</td>\n",
       "      <td>-0.828965</td>\n",
       "      <td>27.758673</td>\n",
       "    </tr>\n",
       "    <tr>\n",
       "      <th>1</th>\n",
       "      <td>WJtFt</td>\n",
       "      <td>0.262778</td>\n",
       "      <td>0.269839</td>\n",
       "      <td>-2.530187</td>\n",
       "      <td>56.069697</td>\n",
       "    </tr>\n",
       "    <tr>\n",
       "      <th>2</th>\n",
       "      <td>ovLUW</td>\n",
       "      <td>0.194587</td>\n",
       "      <td>0.289035</td>\n",
       "      <td>-5.586433</td>\n",
       "      <td>62.871910</td>\n",
       "    </tr>\n",
       "    <tr>\n",
       "      <th>3</th>\n",
       "      <td>q6cA6</td>\n",
       "      <td>2.236060</td>\n",
       "      <td>-0.553760</td>\n",
       "      <td>0.930038</td>\n",
       "      <td>114.572842</td>\n",
       "    </tr>\n",
       "    <tr>\n",
       "      <th>4</th>\n",
       "      <td>WPMUX</td>\n",
       "      <td>-0.515993</td>\n",
       "      <td>1.716266</td>\n",
       "      <td>5.899011</td>\n",
       "      <td>149.600746</td>\n",
       "    </tr>\n",
       "  </tbody>\n",
       "</table>\n",
       "</div>"
      ],
      "text/plain": [
       "      id        f0        f1        f2     product\n",
       "0  fwXo0 -1.146987  0.963328 -0.828965   27.758673\n",
       "1  WJtFt  0.262778  0.269839 -2.530187   56.069697\n",
       "2  ovLUW  0.194587  0.289035 -5.586433   62.871910\n",
       "3  q6cA6  2.236060 -0.553760  0.930038  114.572842\n",
       "4  WPMUX -0.515993  1.716266  5.899011  149.600746"
      ]
     },
     "execution_count": 8,
     "metadata": {},
     "output_type": "execute_result"
    }
   ],
   "source": [
    "data_2.info()\n",
    "data_2.head()"
   ]
  },
  {
   "cell_type": "code",
   "execution_count": 9,
   "metadata": {},
   "outputs": [
    {
     "data": {
      "text/plain": [
       "<AxesSubplot:>"
      ]
     },
     "execution_count": 9,
     "metadata": {},
     "output_type": "execute_result"
    },
    {
     "data": {
      "image/png": "[encoded data removed]",
      "text/plain": [
       "<Figure size 432x288 with 1 Axes>"
      ]
     },
     "metadata": {
      "needs_background": "light"
     },
     "output_type": "display_data"
    }
   ],
   "source": [
    "data_2['product'].hist()"
   ]
  },
  {
   "cell_type": "markdown",
   "metadata": {},
   "source": [
    "Никаких пропусков в данных нет. Судя по гистограммам, у первого и третьего региона нормально распределение сырья, большинство значений примерно в середине, а вот у второго пики на самых маленьких и больших значениях, однако и наибольшие значения меньше остальных. Нужны дальнейшие расчёты"
   ]
  },
  {
   "cell_type": "markdown",
   "metadata": {},
   "source": [
    "### Проверим дубликаты в данных по id"
   ]
  },
  {
   "cell_type": "code",
   "execution_count": 10,
   "metadata": {},
   "outputs": [
    {
     "name": "stdout",
     "output_type": "stream",
     "text": [
      "Дубликаты в первом регионе 10\n",
      "Дубликаты во втором регионе 4\n",
      "Дубликаты в третьем регионе 4\n"
     ]
    }
   ],
   "source": [
    "print('Дубликаты в первом регионе', data_0['id'].duplicated().sum())\n",
    "print('Дубликаты во втором регионе', data_1['id'].duplicated().sum())\n",
    "print('Дубликаты в третьем регионе', data_2['id'].duplicated().sum())"
   ]
  },
  {
   "cell_type": "markdown",
   "metadata": {},
   "source": [
    "Повторяющиеся элементы действительно есть, однако их очень мало, 10 значений на 100000 строк"
   ]
  },
  {
   "cell_type": "markdown",
   "metadata": {},
   "source": [
    "### Посмотрим на корреляцию"
   ]
  },
  {
   "cell_type": "code",
   "execution_count": 11,
   "metadata": {},
   "outputs": [
    {
     "data": {
      "image/png": "[encoded data removed]",
      "text/plain": [
       "<Figure size 576x576 with 2 Axes>"
      ]
     },
     "metadata": {
      "needs_background": "light"
     },
     "output_type": "display_data"
    }
   ],
   "source": [
    "fig, ax = plt.subplots(figsize=(8, 8))\n",
    "sns.heatmap(data_0.corr(), \n",
    "            annot = True, \n",
    "            mask=np.triu(data_0.corr())).set_title('Тепловая карта корреляции первого региона')\n",
    "plt.show()"
   ]
  },
  {
   "cell_type": "code",
   "execution_count": 12,
   "metadata": {},
   "outputs": [
    {
     "data": {
      "image/png": "[encoded data removed]",
      "text/plain": [
       "<Figure size 576x576 with 2 Axes>"
      ]
     },
     "metadata": {
      "needs_background": "light"
     },
     "output_type": "display_data"
    }
   ],
   "source": [
    "fig, ax = plt.subplots(figsize=(8, 8))\n",
    "sns.heatmap(data_1.corr(), \n",
    "            annot = True, \n",
    "            mask=np.triu(data_1.corr())).set_title('Тепловая карта корреляции второго региона')\n",
    "plt.show()"
   ]
  },
  {
   "cell_type": "code",
   "execution_count": 13,
   "metadata": {},
   "outputs": [
    {
     "data": {
      "image/png": "[encoded data removed]",
      "text/plain": [
       "<Figure size 576x576 with 2 Axes>"
      ]
     },
     "metadata": {
      "needs_background": "light"
     },
     "output_type": "display_data"
    }
   ],
   "source": [
    "fig, ax = plt.subplots(figsize=(8, 8))\n",
    "sns.heatmap(data_2.corr(), \n",
    "            annot = True, \n",
    "            mask=np.triu(data_2.corr())).set_title('Тепловая карта корреляции третьего региона')\n",
    "plt.show()"
   ]
  },
  {
   "cell_type": "markdown",
   "metadata": {},
   "source": [
    "Корреляция есть, в целом так и должно быть, ведь пробы делают не просто так, однако у второго и третьего региона корреляция по большому счёту есть только от третьей пробы, первая и вторая как будто ни на что не влияют. Возможно она самая точная из всех, а может и нет"
   ]
  },
  {
   "cell_type": "markdown",
   "metadata": {},
   "source": [
    "### Подготовим данные для обучения"
   ]
  },
  {
   "cell_type": "code",
   "execution_count": 14,
   "metadata": {},
   "outputs": [],
   "source": [
    "target_0 = data_0['product']\n",
    "features_0 = data_0.drop(['product', 'id'], axis=1)\n",
    "target_1 = data_1['product']\n",
    "features_1 = data_1.drop(['product', 'id'], axis=1)\n",
    "target_2 = data_2['product']\n",
    "features_2 = data_2.drop(['product', 'id'], axis=1)"
   ]
  },
  {
   "cell_type": "code",
   "execution_count": 15,
   "metadata": {},
   "outputs": [],
   "source": [
    "features_train_0, features_valid_0, target_train_0, target_valid_0 = train_test_split(\n",
    "    features_0, target_0, test_size=0.25, random_state=RANDOM_STATE)\n",
    "features_train_1, features_valid_1, target_train_1, target_valid_1 = train_test_split(\n",
    "    features_1, target_1, test_size=0.25, random_state=RANDOM_STATE)\n",
    "features_train_2, features_valid_2, target_train_2, target_valid_2 = train_test_split(\n",
    "    features_2, target_2, test_size=0.25, random_state=RANDOM_STATE)"
   ]
  },
  {
   "cell_type": "markdown",
   "metadata": {},
   "source": [
    "## Обучение и проверка модели"
   ]
  },
  {
   "cell_type": "markdown",
   "metadata": {},
   "source": [
    "По условиям задачи подходит только линейная регрессия, значит именно её мы и будем использовать"
   ]
  },
  {
   "cell_type": "markdown",
   "metadata": {},
   "source": [
    "### Модель и вычисления для первого региона"
   ]
  },
  {
   "cell_type": "code",
   "execution_count": 16,
   "metadata": {},
   "outputs": [
    {
     "name": "stdout",
     "output_type": "stream",
     "text": [
      "RMSE модели на валидационной выборке: 37.71000259560676\n",
      "Средний запас предсказанного сырья 92.41387752778155\n"
     ]
    }
   ],
   "source": [
    "model = LinearRegression()\n",
    "model.fit(features_train_0, target_train_0)\n",
    "predictions_valid_0 = model.predict(features_valid_0)\n",
    "result_0 = mean_squared_error(target_valid_0, predictions_valid_0) ** 0.5\n",
    "print(\"RMSE модели на валидационной выборке:\", result_0)\n",
    "print('Средний запас предсказанного сырья', sum(predictions_valid_0) / len(predictions_valid_0))"
   ]
  },
  {
   "cell_type": "markdown",
   "metadata": {},
   "source": [
    "У первого региона давольно большие запасы в среднем, однако предсказания получаются достаточно неточными, что может привести к ненужным рискам, но это нужно будет проверить"
   ]
  },
  {
   "cell_type": "markdown",
   "metadata": {},
   "source": [
    "### Модель и вычисления для второго региона"
   ]
  },
  {
   "cell_type": "code",
   "execution_count": 17,
   "metadata": {},
   "outputs": [
    {
     "name": "stdout",
     "output_type": "stream",
     "text": [
      "RMSE модели на валидационной выборке: 0.8939620215349734\n",
      "Средний запас предсказанного сырья 68.42645858331633\n"
     ]
    }
   ],
   "source": [
    "model = LinearRegression()\n",
    "model.fit(features_train_1, target_train_1)\n",
    "predictions_valid_1 = model.predict(features_valid_1)\n",
    "result_1 = mean_squared_error(target_valid_1, predictions_valid_1) ** 0.5\n",
    "print(\"RMSE модели на валидационной выборке:\", result_1)\n",
    "print('Средний запас предсказанного сырья', sum(predictions_valid_1) / len(predictions_valid_1))"
   ]
  },
  {
   "cell_type": "markdown",
   "metadata": {},
   "source": [
    "Для второго региона получились достаточно точные предсказания, однако в среднем запасы не такие большие, хотя по гистограмме выше этот регион может подойти, ведь там достаточно много скважин с большим значениями сырья"
   ]
  },
  {
   "cell_type": "markdown",
   "metadata": {},
   "source": [
    "### Модель и вычисления для третьего региона"
   ]
  },
  {
   "cell_type": "code",
   "execution_count": 18,
   "metadata": {},
   "outputs": [
    {
     "name": "stdout",
     "output_type": "stream",
     "text": [
      "RMSE модели на валидационной выборке: 40.17098452637588\n",
      "Средний запас предсказанного сырья 68.42645858331633\n"
     ]
    }
   ],
   "source": [
    "model = LinearRegression()\n",
    "model.fit(features_train_2, target_train_2)\n",
    "predictions_valid_2 = model.predict(features_valid_2)\n",
    "result_2 = mean_squared_error(target_valid_2, predictions_valid_2) ** 0.5\n",
    "print(\"RMSE модели на валидационной выборке:\", result_2)\n",
    "print('Средний запас предсказанного сырья', sum(predictions_valid_1) / len(predictions_valid_1))"
   ]
  },
  {
   "cell_type": "markdown",
   "metadata": {},
   "source": [
    "К сожалению, третий регион собрал худшие качества предыдущих, в среднем модель сильно ошибается и не высокий средний запас сырья"
   ]
  },
  {
   "cell_type": "markdown",
   "metadata": {},
   "source": [
    "### Теперь необходимо собрать все данные воедино"
   ]
  },
  {
   "cell_type": "code",
   "execution_count": 19,
   "metadata": {},
   "outputs": [
    {
     "data": {
      "text/html": [
       "<div>\n",
       "<style scoped>\n",
       "    .dataframe tbody tr th:only-of-type {\n",
       "        vertical-align: middle;\n",
       "    }\n",
       "\n",
       "    .dataframe tbody tr th {\n",
       "        vertical-align: top;\n",
       "    }\n",
       "\n",
       "    .dataframe thead th {\n",
       "        text-align: right;\n",
       "    }\n",
       "</style>\n",
       "<table border=\"1\" class=\"dataframe\">\n",
       "  <thead>\n",
       "    <tr style=\"text-align: right;\">\n",
       "      <th></th>\n",
       "      <th>f0</th>\n",
       "      <th>f1</th>\n",
       "      <th>f2</th>\n",
       "      <th>id</th>\n",
       "      <th>product</th>\n",
       "      <th>predict_product</th>\n",
       "    </tr>\n",
       "  </thead>\n",
       "  <tbody>\n",
       "    <tr>\n",
       "      <th>84874</th>\n",
       "      <td>1.030106</td>\n",
       "      <td>-0.548676</td>\n",
       "      <td>6.661980</td>\n",
       "      <td>O2lBA</td>\n",
       "      <td>126.082568</td>\n",
       "      <td>133.276294</td>\n",
       "    </tr>\n",
       "    <tr>\n",
       "      <th>22363</th>\n",
       "      <td>-0.950916</td>\n",
       "      <td>0.290856</td>\n",
       "      <td>2.688060</td>\n",
       "      <td>0iTow</td>\n",
       "      <td>124.404614</td>\n",
       "      <td>87.770241</td>\n",
       "    </tr>\n",
       "    <tr>\n",
       "      <th>73364</th>\n",
       "      <td>1.000412</td>\n",
       "      <td>0.186644</td>\n",
       "      <td>1.427121</td>\n",
       "      <td>Kh87w</td>\n",
       "      <td>64.834947</td>\n",
       "      <td>88.244531</td>\n",
       "    </tr>\n",
       "    <tr>\n",
       "      <th>67585</th>\n",
       "      <td>0.594620</td>\n",
       "      <td>-0.384555</td>\n",
       "      <td>-0.867419</td>\n",
       "      <td>65HyG</td>\n",
       "      <td>109.296102</td>\n",
       "      <td>79.776735</td>\n",
       "    </tr>\n",
       "    <tr>\n",
       "      <th>39535</th>\n",
       "      <td>0.625846</td>\n",
       "      <td>-0.526510</td>\n",
       "      <td>2.295709</td>\n",
       "      <td>b1IAI</td>\n",
       "      <td>113.110669</td>\n",
       "      <td>102.726433</td>\n",
       "    </tr>\n",
       "  </tbody>\n",
       "</table>\n",
       "</div>"
      ],
      "text/plain": [
       "             f0        f1        f2     id     product  predict_product\n",
       "84874  1.030106 -0.548676  6.661980  O2lBA  126.082568       133.276294\n",
       "22363 -0.950916  0.290856  2.688060  0iTow  124.404614        87.770241\n",
       "73364  1.000412  0.186644  1.427121  Kh87w   64.834947        88.244531\n",
       "67585  0.594620 -0.384555 -0.867419  65HyG  109.296102        79.776735\n",
       "39535  0.625846 -0.526510  2.295709  b1IAI  113.110669       102.726433"
      ]
     },
     "execution_count": 19,
     "metadata": {},
     "output_type": "execute_result"
    }
   ],
   "source": [
    "warnings.filterwarnings(\"ignore\")\n",
    "predict_data_0 = features_valid_0.copy()\n",
    "predict_data_0['id'] = data_0['id']\n",
    "predict_data_0['product'] = target_valid_0\n",
    "predict_data_0['predict_product'] = predictions_valid_0\n",
    "predict_data_0.head()"
   ]
  },
  {
   "cell_type": "code",
   "execution_count": 20,
   "metadata": {},
   "outputs": [
    {
     "data": {
      "text/html": [
       "<div>\n",
       "<style scoped>\n",
       "    .dataframe tbody tr th:only-of-type {\n",
       "        vertical-align: middle;\n",
       "    }\n",
       "\n",
       "    .dataframe tbody tr th {\n",
       "        vertical-align: top;\n",
       "    }\n",
       "\n",
       "    .dataframe thead th {\n",
       "        text-align: right;\n",
       "    }\n",
       "</style>\n",
       "<table border=\"1\" class=\"dataframe\">\n",
       "  <thead>\n",
       "    <tr style=\"text-align: right;\">\n",
       "      <th></th>\n",
       "      <th>id</th>\n",
       "      <th>f0</th>\n",
       "      <th>f1</th>\n",
       "      <th>f2</th>\n",
       "      <th>product</th>\n",
       "    </tr>\n",
       "  </thead>\n",
       "  <tbody>\n",
       "    <tr>\n",
       "      <th>84874</th>\n",
       "      <td>O2lBA</td>\n",
       "      <td>1.030106</td>\n",
       "      <td>-0.548676</td>\n",
       "      <td>6.66198</td>\n",
       "      <td>126.082568</td>\n",
       "    </tr>\n",
       "  </tbody>\n",
       "</table>\n",
       "</div>"
      ],
      "text/plain": [
       "          id        f0        f1       f2     product\n",
       "84874  O2lBA  1.030106 -0.548676  6.66198  126.082568"
      ]
     },
     "execution_count": 20,
     "metadata": {},
     "output_type": "execute_result"
    }
   ],
   "source": [
    "data_0[data_0['id'] == 'O2lBA']"
   ]
  },
  {
   "cell_type": "markdown",
   "metadata": {},
   "source": [
    "Для проверки возьмём тот же id из изначальной таблицы. Все данные сходяться, хоть и возникает ошибка"
   ]
  },
  {
   "cell_type": "code",
   "execution_count": 21,
   "metadata": {},
   "outputs": [
    {
     "data": {
      "text/html": [
       "<div>\n",
       "<style scoped>\n",
       "    .dataframe tbody tr th:only-of-type {\n",
       "        vertical-align: middle;\n",
       "    }\n",
       "\n",
       "    .dataframe tbody tr th {\n",
       "        vertical-align: top;\n",
       "    }\n",
       "\n",
       "    .dataframe thead th {\n",
       "        text-align: right;\n",
       "    }\n",
       "</style>\n",
       "<table border=\"1\" class=\"dataframe\">\n",
       "  <thead>\n",
       "    <tr style=\"text-align: right;\">\n",
       "      <th></th>\n",
       "      <th>f0</th>\n",
       "      <th>f1</th>\n",
       "      <th>f2</th>\n",
       "      <th>id</th>\n",
       "      <th>product</th>\n",
       "      <th>predict_product</th>\n",
       "    </tr>\n",
       "  </thead>\n",
       "  <tbody>\n",
       "    <tr>\n",
       "      <th>84874</th>\n",
       "      <td>1.637149</td>\n",
       "      <td>-14.791995</td>\n",
       "      <td>0.998364</td>\n",
       "      <td>Ghosm</td>\n",
       "      <td>26.953261</td>\n",
       "      <td>28.641199</td>\n",
       "    </tr>\n",
       "    <tr>\n",
       "      <th>22363</th>\n",
       "      <td>4.482999</td>\n",
       "      <td>-13.458786</td>\n",
       "      <td>4.002484</td>\n",
       "      <td>wcwoE</td>\n",
       "      <td>107.813044</td>\n",
       "      <td>109.167763</td>\n",
       "    </tr>\n",
       "    <tr>\n",
       "      <th>73364</th>\n",
       "      <td>16.375786</td>\n",
       "      <td>0.181385</td>\n",
       "      <td>3.999900</td>\n",
       "      <td>Z97qV</td>\n",
       "      <td>107.813044</td>\n",
       "      <td>107.081476</td>\n",
       "    </tr>\n",
       "    <tr>\n",
       "      <th>67585</th>\n",
       "      <td>-4.993060</td>\n",
       "      <td>-4.845680</td>\n",
       "      <td>-0.002657</td>\n",
       "      <td>JORCy</td>\n",
       "      <td>3.179103</td>\n",
       "      <td>2.406924</td>\n",
       "    </tr>\n",
       "    <tr>\n",
       "      <th>39535</th>\n",
       "      <td>4.712690</td>\n",
       "      <td>-9.209218</td>\n",
       "      <td>3.992220</td>\n",
       "      <td>7888Y</td>\n",
       "      <td>107.813044</td>\n",
       "      <td>108.766140</td>\n",
       "    </tr>\n",
       "  </tbody>\n",
       "</table>\n",
       "</div>"
      ],
      "text/plain": [
       "              f0         f1        f2     id     product  predict_product\n",
       "84874   1.637149 -14.791995  0.998364  Ghosm   26.953261        28.641199\n",
       "22363   4.482999 -13.458786  4.002484  wcwoE  107.813044       109.167763\n",
       "73364  16.375786   0.181385  3.999900  Z97qV  107.813044       107.081476\n",
       "67585  -4.993060  -4.845680 -0.002657  JORCy    3.179103         2.406924\n",
       "39535   4.712690  -9.209218  3.992220  7888Y  107.813044       108.766140"
      ]
     },
     "execution_count": 21,
     "metadata": {},
     "output_type": "execute_result"
    }
   ],
   "source": [
    "warnings.filterwarnings(\"ignore\")\n",
    "predict_data_1 = features_valid_1.copy()\n",
    "predict_data_1['id'] = data_1['id']\n",
    "predict_data_1['product'] = target_valid_1\n",
    "predict_data_1['predict_product'] = predictions_valid_1\n",
    "predict_data_1.head()"
   ]
  },
  {
   "cell_type": "code",
   "execution_count": 22,
   "metadata": {},
   "outputs": [
    {
     "data": {
      "text/html": [
       "<div>\n",
       "<style scoped>\n",
       "    .dataframe tbody tr th:only-of-type {\n",
       "        vertical-align: middle;\n",
       "    }\n",
       "\n",
       "    .dataframe tbody tr th {\n",
       "        vertical-align: top;\n",
       "    }\n",
       "\n",
       "    .dataframe thead th {\n",
       "        text-align: right;\n",
       "    }\n",
       "</style>\n",
       "<table border=\"1\" class=\"dataframe\">\n",
       "  <thead>\n",
       "    <tr style=\"text-align: right;\">\n",
       "      <th></th>\n",
       "      <th>f0</th>\n",
       "      <th>f1</th>\n",
       "      <th>f2</th>\n",
       "      <th>id</th>\n",
       "      <th>product</th>\n",
       "      <th>predict_product</th>\n",
       "    </tr>\n",
       "  </thead>\n",
       "  <tbody>\n",
       "    <tr>\n",
       "      <th>84874</th>\n",
       "      <td>1.649244</td>\n",
       "      <td>-0.793305</td>\n",
       "      <td>5.448483</td>\n",
       "      <td>fg7t1</td>\n",
       "      <td>106.699768</td>\n",
       "      <td>112.145328</td>\n",
       "    </tr>\n",
       "    <tr>\n",
       "      <th>22363</th>\n",
       "      <td>0.249778</td>\n",
       "      <td>2.052321</td>\n",
       "      <td>-0.080079</td>\n",
       "      <td>4IIA7</td>\n",
       "      <td>61.751369</td>\n",
       "      <td>79.884470</td>\n",
       "    </tr>\n",
       "    <tr>\n",
       "      <th>73364</th>\n",
       "      <td>1.812267</td>\n",
       "      <td>0.491508</td>\n",
       "      <td>5.112559</td>\n",
       "      <td>YLHZE</td>\n",
       "      <td>100.482754</td>\n",
       "      <td>110.024477</td>\n",
       "    </tr>\n",
       "    <tr>\n",
       "      <th>67585</th>\n",
       "      <td>1.348817</td>\n",
       "      <td>-1.535672</td>\n",
       "      <td>3.044722</td>\n",
       "      <td>SwQKq</td>\n",
       "      <td>168.529310</td>\n",
       "      <td>98.353961</td>\n",
       "    </tr>\n",
       "    <tr>\n",
       "      <th>39535</th>\n",
       "      <td>-1.255492</td>\n",
       "      <td>1.447630</td>\n",
       "      <td>5.447971</td>\n",
       "      <td>RDORX</td>\n",
       "      <td>126.081641</td>\n",
       "      <td>112.048772</td>\n",
       "    </tr>\n",
       "  </tbody>\n",
       "</table>\n",
       "</div>"
      ],
      "text/plain": [
       "             f0        f1        f2     id     product  predict_product\n",
       "84874  1.649244 -0.793305  5.448483  fg7t1  106.699768       112.145328\n",
       "22363  0.249778  2.052321 -0.080079  4IIA7   61.751369        79.884470\n",
       "73364  1.812267  0.491508  5.112559  YLHZE  100.482754       110.024477\n",
       "67585  1.348817 -1.535672  3.044722  SwQKq  168.529310        98.353961\n",
       "39535 -1.255492  1.447630  5.447971  RDORX  126.081641       112.048772"
      ]
     },
     "execution_count": 22,
     "metadata": {},
     "output_type": "execute_result"
    }
   ],
   "source": [
    "warnings.filterwarnings(\"ignore\")\n",
    "predict_data_2 = features_valid_2.copy()\n",
    "predict_data_2['id'] = data_2['id']\n",
    "predict_data_2['product'] = target_valid_2\n",
    "predict_data_2['predict_product'] = predictions_valid_2\n",
    "predict_data_2.head()"
   ]
  },
  {
   "cell_type": "markdown",
   "metadata": {},
   "source": [
    "Все данные объеденены, можем перейти к расчётам"
   ]
  },
  {
   "cell_type": "markdown",
   "metadata": {},
   "source": [
    "## Подготовка к расчёту прибыли"
   ]
  },
  {
   "cell_type": "markdown",
   "metadata": {},
   "source": [
    "### Расчитаем обём одной скважины для безубыточной разработки"
   ]
  },
  {
   "cell_type": "code",
   "execution_count": 23,
   "metadata": {},
   "outputs": [
    {
     "data": {
      "text/plain": [
       "111.11111111111111"
      ]
     },
     "execution_count": 23,
     "metadata": {},
     "output_type": "execute_result"
    }
   ],
   "source": [
    "budget / count_well / bar_price"
   ]
  },
  {
   "cell_type": "markdown",
   "metadata": {},
   "source": [
    "В среднем каждая разработанная скважина должна содеожать не менее 111 баррелей нефти. Посмотрим сколько нефти в среднем содержиться в скважинах каждого региона"
   ]
  },
  {
   "cell_type": "code",
   "execution_count": 24,
   "metadata": {},
   "outputs": [
    {
     "name": "stdout",
     "output_type": "stream",
     "text": [
      "Средний объём скважин в первом регионе 92.41387752778085\n",
      "Средний объём скважин во втором регионе 68.42645858331672\n",
      "Средний объём скважин в третьем регионе 95.12581551796451\n"
     ]
    }
   ],
   "source": [
    "print('Средний объём скважин в первом регионе' ,predict_data_0['predict_product'].mean())\n",
    "print('Средний объём скважин во втором регионе' ,predict_data_1['predict_product'].mean())\n",
    "print('Средний объём скважин в третьем регионе' ,predict_data_2['predict_product'].mean())"
   ]
  },
  {
   "cell_type": "markdown",
   "metadata": {},
   "source": [
    "В среднем показатели меньше необходимых, но у нас достаточно много предпологаемых скважин, думаю в каждом регионе можно будет подобрать хорошие результаты"
   ]
  },
  {
   "cell_type": "markdown",
   "metadata": {},
   "source": [
    "## Расчёт прибыли и рисков "
   ]
  },
  {
   "cell_type": "markdown",
   "metadata": {},
   "source": [
    "Напишем функцию для расчётов и посчитаем, сколько прибыли может принести каждый регион"
   ]
  },
  {
   "cell_type": "code",
   "execution_count": 25,
   "metadata": {},
   "outputs": [],
   "source": [
    "def profit(data):\n",
    "    top_200 = data['predict_product'].sort_values(ascending=False).head(count_well).sum()\n",
    "    return top_200 * bar_price - budget"
   ]
  },
  {
   "cell_type": "code",
   "execution_count": 26,
   "metadata": {},
   "outputs": [
    {
     "name": "stdout",
     "output_type": "stream",
     "text": [
      "прибыль от сырья по регионам без учёта погрешности предсказаний:\n",
      "Первый регион 3869409891.621317\n",
      "Второй регион 2485355748.8315544\n",
      "Третий регион 3431344601.721609\n"
     ]
    }
   ],
   "source": [
    "print('прибыль от сырья по регионам без учёта погрешности предсказаний:')\n",
    "print('Первый регион' ,profit(predict_data_0))\n",
    "print('Второй регион' ,profit(predict_data_1))\n",
    "print('Третий регион' ,profit(predict_data_2))"
   ]
  },
  {
   "cell_type": "code",
   "execution_count": 27,
   "metadata": {},
   "outputs": [
    {
     "data": {
      "image/png": "[encoded data removed]",
      "text/plain": [
       "<Figure size 864x576 with 1 Axes>"
      ]
     },
     "metadata": {
      "needs_background": "light"
     },
     "output_type": "display_data"
    }
   ],
   "source": [
    "predict_profit = [profit(predict_data_0), profit(predict_data_1), profit(predict_data_2)]\n",
    "plt.figure(figsize=(12,8))\n",
    "objects = ('Первый регион', 'Второй регион', 'Третий регион')\n",
    "y_pos = np.arange(len(objects))\n",
    "plt.bar(y_pos, predict_profit, align='center', color=[red, green, blue])\n",
    "plt.xticks(y_pos, objects)\n",
    "plt.ylabel('млрд рублей')\n",
    "plt.title('прибыль от сырья по регионам без учёта погрешности предсказаний')\n",
    "plt.show()"
   ]
  },
  {
   "cell_type": "code",
   "execution_count": 28,
   "metadata": {},
   "outputs": [
    {
     "name": "stdout",
     "output_type": "stream",
     "text": [
      "минимальная прибыль от сырья по регионам с учётом погрешности предсказаний:\n",
      "Первый регион 475509658.0167084\n",
      "Второй регион 2404899166.893407\n",
      "Третий регион -184044005.65222025\n"
     ]
    }
   ],
   "source": [
    "print('минимальная прибыль от сырья по регионам с учётом погрешности предсказаний:')\n",
    "print('Первый регион' ,profit(predict_data_0) - (result_0 * count_well * bar_price))\n",
    "print('Второй регион' ,profit(predict_data_1) - (result_1 * count_well * bar_price))\n",
    "print('Третий регион' ,profit(predict_data_2) - (result_2 * count_well * bar_price))"
   ]
  },
  {
   "cell_type": "code",
   "execution_count": 29,
   "metadata": {},
   "outputs": [
    {
     "data": {
      "image/png": "[encoded data removed]",
      "text/plain": [
       "<Figure size 864x576 with 1 Axes>"
      ]
     },
     "metadata": {
      "needs_background": "light"
     },
     "output_type": "display_data"
    }
   ],
   "source": [
    "min_predict_profit = [profit(predict_data_0) - (result_0 * count_well * bar_price), \n",
    "                      profit(predict_data_1) - (result_1 * count_well * bar_price), \n",
    "                      profit(predict_data_2) - (result_2 * count_well * bar_price)]\n",
    "plt.figure(figsize=(12,8))\n",
    "y_pos = np.arange(len(objects))\n",
    "plt.bar(y_pos, min_predict_profit, align='center', color=[red, green, blue])\n",
    "plt.xticks(y_pos, objects)\n",
    "plt.ylabel('млрд рублей')\n",
    "plt.title('минимальная прибыль от сырья по регионам с учётом погрешности предсказаний')\n",
    "plt.show()"
   ]
  },
  {
   "cell_type": "markdown",
   "metadata": {},
   "source": [
    "Судя по всем расчётам, если бы модели предсказывали одинаково хорошо, то первый регион самый перспективный, почти 4 млрд прибыли, но вот при худшем расккладе самая большая прибыль будет от второго региона, почти 2.5 млрд. Продолжим расчёты для окончательных выводов"
   ]
  },
  {
   "cell_type": "markdown",
   "metadata": {},
   "source": [
    "## Риски и прибыль для каждого региона"
   ]
  },
  {
   "cell_type": "markdown",
   "metadata": {},
   "source": [
    "### Для начала создадим функцию для расчётов"
   ]
  },
  {
   "cell_type": "markdown",
   "metadata": {},
   "source": [
    "Поскольку по условиям задачи мы должны выбирать 200 лучших точек из 500, именно так и поступим. Для начала выберем 500 точек из всей выборки, после чего отберём 200 лучших из них. Точки берём без повторений, поскольку в реальной жизни будет странно брать одну и ту же скважину несколько раз "
   ]
  },
  {
   "cell_type": "code",
   "execution_count": 30,
   "metadata": {},
   "outputs": [],
   "source": [
    "def revenue(target, predict_data, count):\n",
    "    probs_sorted = predict_data.sort_values(ascending=False)\n",
    "    selected = target[probs_sorted.index][:count]\n",
    "    return bar_price * selected.sum() - budget"
   ]
  },
  {
   "cell_type": "code",
   "execution_count": 31,
   "metadata": {},
   "outputs": [
    {
     "name": "stdout",
     "output_type": "stream",
     "text": [
      "Первый регион\n",
      "95%-ый доверительный интервал: -70874068.8509178 980507592.5298747\n",
      "Cреднее: 449712137.089698\n",
      "вероятность получить убыток в процентах 4.8\n",
      "Второй регион\n",
      "95%-ый доверительный интервал: 71690877.81218405 897962791.3478662\n",
      "Cреднее: 503558003.3338932\n",
      "вероятность получить убыток в процентах 1.4000000000000001\n",
      "Третий регион\n",
      "95%-ый доверительный интервал: -230798829.62491786 868372572.2281072\n",
      "Cреднее: 321735032.612062\n",
      "вероятность получить убыток в процентах 12.6\n"
     ]
    }
   ],
   "source": [
    "predict_data_all = [predict_data_0, predict_data_1, predict_data_2]\n",
    "mean_profit = []\n",
    "loss_probability = []\n",
    "for n in range(len(predict_data_all)):\n",
    "    values = []\n",
    "    for i in range(1000):\n",
    "        target_subsample = predict_data_all[n]['product'].sample(500, replace=True, random_state=state)\n",
    "        probs_subsample = predict_data_all[n]['predict_product'][target_subsample.index] \n",
    "        subsample = revenue(target_subsample, probs_subsample, 200)\n",
    "        values.append(subsample)\n",
    "    values = pd.Series(values)\n",
    "    mean_profit.append(values.mean())\n",
    "    loss_probability.append(values[values < 0].count() / len(values) * 100)\n",
    "    print(objects[n])\n",
    "    print('95%-ый доверительный интервал:',values.quantile(0.025), values.quantile(0.975))\n",
    "    print('Cреднее:' ,values.mean())\n",
    "    print('вероятность получить убыток в процентах' ,values[values < 0].count() / len(values) * 100)"
   ]
  },
  {
   "cell_type": "markdown",
   "metadata": {},
   "source": [
    "Все данные посчитаны, к сожалению, хоть у второго региона и самая большая средняя прибыль, есть достаточно большая вероятность, что прибыль с региона в целом не удасться получить, получиться лишь уйти в убыток, это не очень хорошо"
   ]
  },
  {
   "cell_type": "markdown",
   "metadata": {},
   "source": [
    "### Посмотрим на данные по графикам"
   ]
  },
  {
   "cell_type": "code",
   "execution_count": 32,
   "metadata": {},
   "outputs": [
    {
     "data": {
      "image/png": "[encoded data removed]",
      "text/plain": [
       "<Figure size 864x576 with 1 Axes>"
      ]
     },
     "metadata": {
      "needs_background": "light"
     },
     "output_type": "display_data"
    }
   ],
   "source": [
    "plt.figure(figsize=(12,8))\n",
    "y_pos = np.arange(len(objects))\n",
    "plt.bar(y_pos, mean_profit, align='center', color=[red, green, blue])\n",
    "plt.xticks(y_pos, objects)\n",
    "plt.ylabel('100 млн рублей')\n",
    "plt.title('средняя прибыль каждого региона после bootstrap')\n",
    "plt.show()"
   ]
  },
  {
   "cell_type": "code",
   "execution_count": 33,
   "metadata": {},
   "outputs": [
    {
     "data": {
      "image/png": "[encoded data removed]",
      "text/plain": [
       "<Figure size 864x576 with 1 Axes>"
      ]
     },
     "metadata": {
      "needs_background": "light"
     },
     "output_type": "display_data"
    }
   ],
   "source": [
    "plt.figure(figsize=(12,8))\n",
    "y_pos = np.arange(len(objects))\n",
    "plt.bar(y_pos, loss_probability, align='center', color=[red, green, blue])\n",
    "plt.xticks(y_pos, objects)\n",
    "plt.ylabel('проценты')\n",
    "plt.title('вероятность убытка в процентах для каждого региона после bootstrap')\n",
    "plt.show()"
   ]
  },
  {
   "cell_type": "markdown",
   "metadata": {},
   "source": [
    "## Вывод"
   ]
  },
  {
   "cell_type": "markdown",
   "metadata": {},
   "source": [
    "```\n",
    "Для разработки скважин предлагаю выбрать второй регион, поскольку, у него и самая большая вероятная средняя прибыль, а так же самая низкая вероятности принести убытки компании, всего 1.6% вероятности убытка. При этом средний показатель прибыли равен 467 млн рублей, что больше и превого и третьего регионов. В целом от региона можно получить от 453 до 948 млн рублей прибыли, с сравнительно низкой веростностью уйти в убыток, потому предлагаю остановиться именно на нём.\n",
    "```"
   ]
  }
 ],
 "metadata": {
  "ExecuteTimeLog": [
   {
    "duration": 400,
    "start_time": "2022-12-20T10:39:54.578Z"
   },
   {
    "duration": 1914,
    "start_time": "2022-12-20T10:40:58.151Z"
   },
   {
    "duration": 71,
    "start_time": "2022-12-20T10:41:29.535Z"
   },
   {
    "duration": 14,
    "start_time": "2022-12-20T10:41:37.098Z"
   },
   {
    "duration": 7,
    "start_time": "2022-12-20T10:41:59.247Z"
   },
   {
    "duration": 30,
    "start_time": "2022-12-20T10:42:03.946Z"
   },
   {
    "duration": 30,
    "start_time": "2022-12-20T10:42:12.106Z"
   },
   {
    "duration": 22,
    "start_time": "2022-12-20T10:42:19.849Z"
   },
   {
    "duration": 628,
    "start_time": "2022-12-20T12:03:57.001Z"
   },
   {
    "duration": 15,
    "start_time": "2022-12-20T12:05:37.673Z"
   },
   {
    "duration": 2,
    "start_time": "2022-12-20T12:08:16.458Z"
   },
   {
    "duration": 3,
    "start_time": "2022-12-20T12:08:49.729Z"
   },
   {
    "duration": 53,
    "start_time": "2022-12-20T12:10:00.858Z"
   },
   {
    "duration": 555,
    "start_time": "2022-12-20T12:11:04.633Z"
   },
   {
    "duration": 136,
    "start_time": "2022-12-20T12:11:16.553Z"
   },
   {
    "duration": 128,
    "start_time": "2022-12-20T12:11:23.801Z"
   },
   {
    "duration": 16,
    "start_time": "2022-12-20T12:15:07.202Z"
   },
   {
    "duration": 33,
    "start_time": "2022-12-20T12:15:08.297Z"
   },
   {
    "duration": 3,
    "start_time": "2022-12-20T12:15:51.129Z"
   },
   {
    "duration": 10,
    "start_time": "2022-12-20T12:16:49.626Z"
   },
   {
    "duration": 13,
    "start_time": "2022-12-20T12:17:44.812Z"
   },
   {
    "duration": 21,
    "start_time": "2022-12-20T14:06:27.059Z"
   },
   {
    "duration": 50,
    "start_time": "2022-12-20T14:06:57.371Z"
   },
   {
    "duration": 3,
    "start_time": "2022-12-20T14:07:00.653Z"
   },
   {
    "duration": 15,
    "start_time": "2022-12-20T14:08:21.420Z"
   },
   {
    "duration": 226,
    "start_time": "2022-12-20T14:09:11.362Z"
   },
   {
    "duration": 10,
    "start_time": "2022-12-20T14:09:27.054Z"
   },
   {
    "duration": 4,
    "start_time": "2022-12-20T14:10:46.860Z"
   },
   {
    "duration": 5,
    "start_time": "2022-12-20T14:11:04.414Z"
   },
   {
    "duration": 8,
    "start_time": "2022-12-20T14:11:18.042Z"
   },
   {
    "duration": 9,
    "start_time": "2022-12-20T14:11:35.550Z"
   },
   {
    "duration": 8,
    "start_time": "2022-12-20T14:11:40.238Z"
   },
   {
    "duration": 3,
    "start_time": "2022-12-20T14:12:16.238Z"
   },
   {
    "duration": 9,
    "start_time": "2022-12-20T14:12:16.243Z"
   },
   {
    "duration": 356,
    "start_time": "2022-12-20T14:12:16.254Z"
   },
   {
    "duration": 19,
    "start_time": "2022-12-20T14:12:16.612Z"
   },
   {
    "duration": 140,
    "start_time": "2022-12-20T14:12:16.632Z"
   },
   {
    "duration": 26,
    "start_time": "2022-12-20T14:12:16.778Z"
   },
   {
    "duration": 160,
    "start_time": "2022-12-20T14:12:16.806Z"
   },
   {
    "duration": 30,
    "start_time": "2022-12-20T14:12:16.968Z"
   },
   {
    "duration": 217,
    "start_time": "2022-12-20T14:12:17.000Z"
   },
   {
    "duration": 8,
    "start_time": "2022-12-20T14:12:17.220Z"
   },
   {
    "duration": 27,
    "start_time": "2022-12-20T14:12:17.230Z"
   },
   {
    "duration": 2,
    "start_time": "2022-12-20T14:12:17.258Z"
   },
   {
    "duration": 20,
    "start_time": "2022-12-20T14:12:17.277Z"
   },
   {
    "duration": 6,
    "start_time": "2022-12-20T14:12:20.652Z"
   },
   {
    "duration": 2,
    "start_time": "2022-12-20T14:15:05.069Z"
   },
   {
    "duration": 15,
    "start_time": "2022-12-20T14:15:21.165Z"
   },
   {
    "duration": 14,
    "start_time": "2022-12-20T14:15:27.678Z"
   },
   {
    "duration": 13,
    "start_time": "2022-12-20T14:15:29.869Z"
   },
   {
    "duration": 13,
    "start_time": "2022-12-20T14:15:39.354Z"
   },
   {
    "duration": 4,
    "start_time": "2022-12-20T14:16:00.162Z"
   },
   {
    "duration": 5,
    "start_time": "2022-12-20T14:21:41.614Z"
   },
   {
    "duration": 4,
    "start_time": "2022-12-20T14:22:47.902Z"
   },
   {
    "duration": 21,
    "start_time": "2022-12-20T14:23:31.295Z"
   },
   {
    "duration": 13,
    "start_time": "2022-12-20T14:23:36.079Z"
   },
   {
    "duration": 13,
    "start_time": "2022-12-20T14:24:02.319Z"
   },
   {
    "duration": 16,
    "start_time": "2022-12-20T14:24:08.190Z"
   },
   {
    "duration": 16,
    "start_time": "2022-12-20T14:24:34.143Z"
   },
   {
    "duration": 15,
    "start_time": "2022-12-20T14:25:00.430Z"
   },
   {
    "duration": 5,
    "start_time": "2022-12-20T14:25:17.009Z"
   },
   {
    "duration": 9,
    "start_time": "2022-12-20T14:25:26.577Z"
   },
   {
    "duration": 6,
    "start_time": "2022-12-20T14:25:37.583Z"
   },
   {
    "duration": 3,
    "start_time": "2022-12-20T14:26:54.769Z"
   },
   {
    "duration": 6,
    "start_time": "2022-12-20T14:27:08.143Z"
   },
   {
    "duration": 5,
    "start_time": "2022-12-20T14:27:15.012Z"
   },
   {
    "duration": 6,
    "start_time": "2022-12-20T14:27:38.976Z"
   },
   {
    "duration": 8,
    "start_time": "2022-12-20T14:27:53.360Z"
   },
   {
    "duration": 45,
    "start_time": "2022-12-21T08:19:37.647Z"
   },
   {
    "duration": 45,
    "start_time": "2022-12-21T08:22:52.149Z"
   },
   {
    "duration": 1124,
    "start_time": "2022-12-21T08:23:01.247Z"
   },
   {
    "duration": 2,
    "start_time": "2022-12-21T08:23:02.373Z"
   },
   {
    "duration": 803,
    "start_time": "2022-12-21T08:23:02.376Z"
   },
   {
    "duration": 43,
    "start_time": "2022-12-21T08:23:03.181Z"
   },
   {
    "duration": 657,
    "start_time": "2022-12-21T08:23:03.227Z"
   },
   {
    "duration": 39,
    "start_time": "2022-12-21T08:23:03.887Z"
   },
   {
    "duration": 197,
    "start_time": "2022-12-21T08:23:03.928Z"
   },
   {
    "duration": 23,
    "start_time": "2022-12-21T08:23:04.127Z"
   },
   {
    "duration": 190,
    "start_time": "2022-12-21T08:23:04.152Z"
   },
   {
    "duration": 11,
    "start_time": "2022-12-21T08:23:04.344Z"
   },
   {
    "duration": 40,
    "start_time": "2022-12-21T08:23:04.357Z"
   },
   {
    "duration": 4,
    "start_time": "2022-12-21T08:23:04.400Z"
   },
   {
    "duration": 104,
    "start_time": "2022-12-21T08:23:06.209Z"
   },
   {
    "duration": 93,
    "start_time": "2022-12-21T08:23:26.502Z"
   },
   {
    "duration": 22,
    "start_time": "2022-12-21T08:23:52.646Z"
   },
   {
    "duration": 5,
    "start_time": "2022-12-21T08:35:18.519Z"
   },
   {
    "duration": 5,
    "start_time": "2022-12-21T08:35:30.651Z"
   },
   {
    "duration": 11,
    "start_time": "2022-12-21T08:35:55.400Z"
   },
   {
    "duration": 6,
    "start_time": "2022-12-21T08:36:03.552Z"
   },
   {
    "duration": 11,
    "start_time": "2022-12-21T08:40:18.579Z"
   },
   {
    "duration": 14,
    "start_time": "2022-12-21T08:41:12.956Z"
   },
   {
    "duration": 31,
    "start_time": "2022-12-21T08:42:01.781Z"
   },
   {
    "duration": 17,
    "start_time": "2022-12-21T08:42:33.726Z"
   },
   {
    "duration": 19,
    "start_time": "2022-12-21T08:42:42.581Z"
   },
   {
    "duration": 813,
    "start_time": "2022-12-21T08:42:50.589Z"
   },
   {
    "duration": 692,
    "start_time": "2022-12-21T08:43:22.646Z"
   },
   {
    "duration": 13,
    "start_time": "2022-12-21T08:43:37.454Z"
   },
   {
    "duration": 17,
    "start_time": "2022-12-21T08:43:59.287Z"
   },
   {
    "duration": 21,
    "start_time": "2022-12-21T08:44:57.682Z"
   },
   {
    "duration": 4,
    "start_time": "2022-12-21T08:46:06.593Z"
   },
   {
    "duration": 21,
    "start_time": "2022-12-21T08:46:06.600Z"
   },
   {
    "duration": 432,
    "start_time": "2022-12-21T08:46:06.624Z"
   },
   {
    "duration": 21,
    "start_time": "2022-12-21T08:46:07.057Z"
   },
   {
    "duration": 190,
    "start_time": "2022-12-21T08:46:07.080Z"
   },
   {
    "duration": 32,
    "start_time": "2022-12-21T08:46:07.272Z"
   },
   {
    "duration": 174,
    "start_time": "2022-12-21T08:46:07.305Z"
   },
   {
    "duration": 34,
    "start_time": "2022-12-21T08:46:07.481Z"
   },
   {
    "duration": 179,
    "start_time": "2022-12-21T08:46:07.516Z"
   },
   {
    "duration": 18,
    "start_time": "2022-12-21T08:46:07.698Z"
   },
   {
    "duration": 34,
    "start_time": "2022-12-21T08:46:07.718Z"
   },
   {
    "duration": 2,
    "start_time": "2022-12-21T08:46:07.754Z"
   },
   {
    "duration": 49,
    "start_time": "2022-12-21T08:46:07.757Z"
   },
   {
    "duration": 128,
    "start_time": "2022-12-21T08:46:07.810Z"
   },
   {
    "duration": 102,
    "start_time": "2022-12-21T08:46:07.998Z"
   },
   {
    "duration": 10,
    "start_time": "2022-12-21T08:46:09.849Z"
   },
   {
    "duration": 20,
    "start_time": "2022-12-21T08:46:33.445Z"
   },
   {
    "duration": 26,
    "start_time": "2022-12-21T08:47:30.795Z"
   },
   {
    "duration": 17,
    "start_time": "2022-12-21T08:48:08.266Z"
   },
   {
    "duration": 24,
    "start_time": "2022-12-21T08:48:20.850Z"
   },
   {
    "duration": 17,
    "start_time": "2022-12-21T08:48:23.300Z"
   },
   {
    "duration": 6,
    "start_time": "2022-12-21T08:48:35.453Z"
   },
   {
    "duration": 18,
    "start_time": "2022-12-21T08:49:54.909Z"
   },
   {
    "duration": 15,
    "start_time": "2022-12-21T08:50:23.651Z"
   },
   {
    "duration": 16,
    "start_time": "2022-12-21T08:53:47.855Z"
   },
   {
    "duration": 15,
    "start_time": "2022-12-21T08:53:56.160Z"
   },
   {
    "duration": 11,
    "start_time": "2022-12-21T08:54:07.416Z"
   },
   {
    "duration": 16,
    "start_time": "2022-12-21T08:54:13.050Z"
   },
   {
    "duration": 10,
    "start_time": "2022-12-21T08:55:36.698Z"
   },
   {
    "duration": 135,
    "start_time": "2022-12-21T08:56:24.154Z"
   },
   {
    "duration": 4,
    "start_time": "2022-12-21T09:05:27.986Z"
   },
   {
    "duration": 4,
    "start_time": "2022-12-21T09:06:27.593Z"
   },
   {
    "duration": 6,
    "start_time": "2022-12-21T09:06:34.972Z"
   },
   {
    "duration": 9,
    "start_time": "2022-12-21T09:13:34.130Z"
   },
   {
    "duration": 3,
    "start_time": "2022-12-21T09:13:39.754Z"
   },
   {
    "duration": 5,
    "start_time": "2022-12-21T09:13:44.177Z"
   },
   {
    "duration": 6,
    "start_time": "2022-12-21T09:25:05.068Z"
   },
   {
    "duration": 712,
    "start_time": "2022-12-21T09:30:42.169Z"
   },
   {
    "duration": 1118,
    "start_time": "2022-12-21T09:30:44.585Z"
   },
   {
    "duration": 759,
    "start_time": "2022-12-21T09:30:54.209Z"
   },
   {
    "duration": 4,
    "start_time": "2022-12-21T09:31:07.434Z"
   },
   {
    "duration": 14,
    "start_time": "2022-12-21T09:31:11.146Z"
   },
   {
    "duration": 8,
    "start_time": "2022-12-21T09:32:26.891Z"
   },
   {
    "duration": 9,
    "start_time": "2022-12-21T09:32:39.355Z"
   },
   {
    "duration": 9,
    "start_time": "2022-12-21T09:32:49.835Z"
   },
   {
    "duration": 8,
    "start_time": "2022-12-21T09:32:55.867Z"
   },
   {
    "duration": 10,
    "start_time": "2022-12-21T09:33:02.370Z"
   },
   {
    "duration": 9,
    "start_time": "2022-12-21T09:33:40.316Z"
   },
   {
    "duration": 8,
    "start_time": "2022-12-21T09:34:29.108Z"
   },
   {
    "duration": 3,
    "start_time": "2022-12-21T09:34:33.956Z"
   },
   {
    "duration": 3,
    "start_time": "2022-12-21T09:34:59.397Z"
   },
   {
    "duration": 7,
    "start_time": "2022-12-21T09:35:15.525Z"
   },
   {
    "duration": 14,
    "start_time": "2022-12-21T09:35:26.885Z"
   },
   {
    "duration": 13,
    "start_time": "2022-12-21T09:35:43.965Z"
   },
   {
    "duration": 13,
    "start_time": "2022-12-21T09:36:42.198Z"
   },
   {
    "duration": 4,
    "start_time": "2022-12-21T09:36:54.246Z"
   },
   {
    "duration": 13,
    "start_time": "2022-12-21T09:37:08.711Z"
   },
   {
    "duration": 13,
    "start_time": "2022-12-21T09:37:25.087Z"
   },
   {
    "duration": 1194,
    "start_time": "2022-12-22T07:33:34.625Z"
   },
   {
    "duration": 3,
    "start_time": "2022-12-22T07:33:35.821Z"
   },
   {
    "duration": 1771,
    "start_time": "2022-12-22T07:33:35.826Z"
   },
   {
    "duration": 31,
    "start_time": "2022-12-22T07:33:37.599Z"
   },
   {
    "duration": 639,
    "start_time": "2022-12-22T07:33:37.632Z"
   },
   {
    "duration": 28,
    "start_time": "2022-12-22T07:33:38.273Z"
   },
   {
    "duration": 184,
    "start_time": "2022-12-22T07:33:38.302Z"
   },
   {
    "duration": 25,
    "start_time": "2022-12-22T07:33:38.488Z"
   },
   {
    "duration": 198,
    "start_time": "2022-12-22T07:33:38.515Z"
   },
   {
    "duration": 12,
    "start_time": "2022-12-22T07:33:38.715Z"
   },
   {
    "duration": 49,
    "start_time": "2022-12-22T07:33:38.729Z"
   },
   {
    "duration": 3,
    "start_time": "2022-12-22T07:33:38.780Z"
   },
   {
    "duration": 174,
    "start_time": "2022-12-22T07:33:38.785Z"
   },
   {
    "duration": 194,
    "start_time": "2022-12-22T07:33:38.964Z"
   },
   {
    "duration": 191,
    "start_time": "2022-12-22T07:33:39.160Z"
   },
   {
    "duration": 112,
    "start_time": "2022-12-22T07:33:39.355Z"
   },
   {
    "duration": 24,
    "start_time": "2022-12-22T07:33:39.470Z"
   },
   {
    "duration": 22,
    "start_time": "2022-12-22T07:33:39.497Z"
   },
   {
    "duration": 23,
    "start_time": "2022-12-22T07:33:39.550Z"
   },
   {
    "duration": 8,
    "start_time": "2022-12-22T07:33:39.575Z"
   },
   {
    "duration": 37,
    "start_time": "2022-12-22T07:33:39.586Z"
   },
   {
    "duration": 12,
    "start_time": "2022-12-22T07:33:39.626Z"
   },
   {
    "duration": 63,
    "start_time": "2022-12-22T07:33:39.643Z"
   },
   {
    "duration": 15,
    "start_time": "2022-12-22T07:39:41.553Z"
   },
   {
    "duration": 16,
    "start_time": "2022-12-22T07:40:28.022Z"
   },
   {
    "duration": 123,
    "start_time": "2022-12-22T07:40:41.647Z"
   },
   {
    "duration": 15,
    "start_time": "2022-12-22T07:40:47.207Z"
   },
   {
    "duration": 14,
    "start_time": "2022-12-22T07:40:52.423Z"
   },
   {
    "duration": 14,
    "start_time": "2022-12-22T07:41:42.408Z"
   },
   {
    "duration": 22,
    "start_time": "2022-12-22T07:41:50.599Z"
   },
   {
    "duration": 4,
    "start_time": "2022-12-22T07:42:47.075Z"
   },
   {
    "duration": 142,
    "start_time": "2022-12-22T07:44:46.043Z"
   },
   {
    "duration": 136,
    "start_time": "2022-12-22T07:44:52.115Z"
   },
   {
    "duration": 152,
    "start_time": "2022-12-22T07:46:40.965Z"
   },
   {
    "duration": 202,
    "start_time": "2022-12-22T07:47:51.102Z"
   },
   {
    "duration": 128,
    "start_time": "2022-12-22T07:48:38.511Z"
   },
   {
    "duration": 129,
    "start_time": "2022-12-22T07:48:44.715Z"
   },
   {
    "duration": 129,
    "start_time": "2022-12-22T07:48:55.376Z"
   },
   {
    "duration": 158,
    "start_time": "2022-12-22T07:49:14.348Z"
   },
   {
    "duration": 130,
    "start_time": "2022-12-22T07:49:38.575Z"
   },
   {
    "duration": 132,
    "start_time": "2022-12-22T07:50:27.152Z"
   },
   {
    "duration": 149,
    "start_time": "2022-12-22T07:51:10.696Z"
   },
   {
    "duration": 146,
    "start_time": "2022-12-22T07:51:14.777Z"
   },
   {
    "duration": 176,
    "start_time": "2022-12-22T07:51:26.145Z"
   },
   {
    "duration": 16,
    "start_time": "2022-12-22T07:53:28.075Z"
   },
   {
    "duration": 16,
    "start_time": "2022-12-22T07:53:37.292Z"
   },
   {
    "duration": 158,
    "start_time": "2022-12-22T07:54:49.292Z"
   },
   {
    "duration": 151,
    "start_time": "2022-12-22T07:55:07.149Z"
   },
   {
    "duration": 3,
    "start_time": "2022-12-22T08:15:36.681Z"
   },
   {
    "duration": 697,
    "start_time": "2022-12-22T08:17:52.235Z"
   },
   {
    "duration": 1704,
    "start_time": "2022-12-22T08:17:56.844Z"
   },
   {
    "duration": 661,
    "start_time": "2022-12-22T08:18:36.555Z"
   },
   {
    "duration": 620,
    "start_time": "2022-12-22T08:18:58.859Z"
   },
   {
    "duration": 571,
    "start_time": "2022-12-22T08:19:05.243Z"
   },
   {
    "duration": 1785,
    "start_time": "2022-12-22T08:20:19.317Z"
   },
   {
    "duration": 62,
    "start_time": "2022-12-22T08:21:02.215Z"
   },
   {
    "duration": 3049,
    "start_time": "2022-12-22T08:21:12.072Z"
   },
   {
    "duration": 3,
    "start_time": "2022-12-22T08:21:15.124Z"
   },
   {
    "duration": 1842,
    "start_time": "2022-12-22T08:21:15.129Z"
   },
   {
    "duration": 30,
    "start_time": "2022-12-22T08:21:16.973Z"
   },
   {
    "duration": 218,
    "start_time": "2022-12-22T08:21:17.006Z"
   },
   {
    "duration": 31,
    "start_time": "2022-12-22T08:21:17.225Z"
   },
   {
    "duration": 181,
    "start_time": "2022-12-22T08:21:17.258Z"
   },
   {
    "duration": 30,
    "start_time": "2022-12-22T08:21:17.441Z"
   },
   {
    "duration": 180,
    "start_time": "2022-12-22T08:21:17.473Z"
   },
   {
    "duration": 13,
    "start_time": "2022-12-22T08:21:17.654Z"
   },
   {
    "duration": 78,
    "start_time": "2022-12-22T08:21:17.670Z"
   },
   {
    "duration": 3,
    "start_time": "2022-12-22T08:21:17.750Z"
   },
   {
    "duration": 109,
    "start_time": "2022-12-22T08:21:17.756Z"
   },
   {
    "duration": 106,
    "start_time": "2022-12-22T08:21:17.954Z"
   },
   {
    "duration": 110,
    "start_time": "2022-12-22T08:21:18.063Z"
   },
   {
    "duration": 189,
    "start_time": "2022-12-22T08:21:18.176Z"
   },
   {
    "duration": 20,
    "start_time": "2022-12-22T08:21:18.367Z"
   },
   {
    "duration": 40,
    "start_time": "2022-12-22T08:21:18.389Z"
   },
   {
    "duration": 29,
    "start_time": "2022-12-22T08:21:18.431Z"
   },
   {
    "duration": 5,
    "start_time": "2022-12-22T08:21:18.463Z"
   },
   {
    "duration": 11,
    "start_time": "2022-12-22T08:21:18.470Z"
   },
   {
    "duration": 28,
    "start_time": "2022-12-22T08:21:18.483Z"
   },
   {
    "duration": 29,
    "start_time": "2022-12-22T08:21:18.513Z"
   },
   {
    "duration": 176,
    "start_time": "2022-12-22T08:21:18.544Z"
   },
   {
    "duration": 16,
    "start_time": "2022-12-22T08:21:18.721Z"
   },
   {
    "duration": 167,
    "start_time": "2022-12-22T08:21:18.739Z"
   },
   {
    "duration": 1996,
    "start_time": "2022-12-22T08:21:24.706Z"
   },
   {
    "duration": 69,
    "start_time": "2022-12-22T08:24:07.817Z"
   },
   {
    "duration": 3074,
    "start_time": "2022-12-22T08:24:13.340Z"
   },
   {
    "duration": 4,
    "start_time": "2022-12-22T08:24:16.416Z"
   },
   {
    "duration": 1773,
    "start_time": "2022-12-22T08:24:16.422Z"
   },
   {
    "duration": 28,
    "start_time": "2022-12-22T08:24:18.196Z"
   },
   {
    "duration": 189,
    "start_time": "2022-12-22T08:24:18.227Z"
   },
   {
    "duration": 34,
    "start_time": "2022-12-22T08:24:18.418Z"
   },
   {
    "duration": 178,
    "start_time": "2022-12-22T08:24:18.454Z"
   },
   {
    "duration": 26,
    "start_time": "2022-12-22T08:24:18.634Z"
   },
   {
    "duration": 184,
    "start_time": "2022-12-22T08:24:18.662Z"
   },
   {
    "duration": 15,
    "start_time": "2022-12-22T08:24:18.848Z"
   },
   {
    "duration": 42,
    "start_time": "2022-12-22T08:24:18.865Z"
   },
   {
    "duration": 3,
    "start_time": "2022-12-22T08:24:18.909Z"
   },
   {
    "duration": 143,
    "start_time": "2022-12-22T08:24:18.914Z"
   },
   {
    "duration": 113,
    "start_time": "2022-12-22T08:24:19.065Z"
   },
   {
    "duration": 209,
    "start_time": "2022-12-22T08:24:19.253Z"
   },
   {
    "duration": 101,
    "start_time": "2022-12-22T08:24:19.465Z"
   },
   {
    "duration": 17,
    "start_time": "2022-12-22T08:24:19.568Z"
   },
   {
    "duration": 31,
    "start_time": "2022-12-22T08:24:19.587Z"
   },
   {
    "duration": 56,
    "start_time": "2022-12-22T08:24:19.620Z"
   },
   {
    "duration": 5,
    "start_time": "2022-12-22T08:24:19.678Z"
   },
   {
    "duration": 18,
    "start_time": "2022-12-22T08:24:19.685Z"
   },
   {
    "duration": 19,
    "start_time": "2022-12-22T08:24:19.705Z"
   },
   {
    "duration": 38,
    "start_time": "2022-12-22T08:24:19.727Z"
   },
   {
    "duration": 213,
    "start_time": "2022-12-22T08:24:19.767Z"
   },
   {
    "duration": 16,
    "start_time": "2022-12-22T08:24:19.981Z"
   },
   {
    "duration": 208,
    "start_time": "2022-12-22T08:24:19.999Z"
   },
   {
    "duration": 3546,
    "start_time": "2022-12-22T08:24:37.923Z"
   },
   {
    "duration": 5,
    "start_time": "2022-12-22T08:24:41.471Z"
   },
   {
    "duration": 1744,
    "start_time": "2022-12-22T08:24:41.478Z"
   },
   {
    "duration": 35,
    "start_time": "2022-12-22T08:24:43.225Z"
   },
   {
    "duration": 187,
    "start_time": "2022-12-22T08:24:43.262Z"
   },
   {
    "duration": 22,
    "start_time": "2022-12-22T08:24:43.451Z"
   },
   {
    "duration": 195,
    "start_time": "2022-12-22T08:24:43.475Z"
   },
   {
    "duration": 24,
    "start_time": "2022-12-22T08:24:43.672Z"
   },
   {
    "duration": 212,
    "start_time": "2022-12-22T08:24:43.698Z"
   },
   {
    "duration": 14,
    "start_time": "2022-12-22T08:24:43.911Z"
   },
   {
    "duration": 55,
    "start_time": "2022-12-22T08:24:43.926Z"
   },
   {
    "duration": 2,
    "start_time": "2022-12-22T08:24:43.983Z"
   },
   {
    "duration": 67,
    "start_time": "2022-12-22T08:24:43.987Z"
   },
   {
    "duration": 112,
    "start_time": "2022-12-22T08:24:44.059Z"
   },
   {
    "duration": 178,
    "start_time": "2022-12-22T08:24:44.173Z"
   },
   {
    "duration": 99,
    "start_time": "2022-12-22T08:24:44.354Z"
   },
   {
    "duration": 18,
    "start_time": "2022-12-22T08:24:44.454Z"
   },
   {
    "duration": 37,
    "start_time": "2022-12-22T08:24:44.474Z"
   },
   {
    "duration": 17,
    "start_time": "2022-12-22T08:24:44.513Z"
   },
   {
    "duration": 5,
    "start_time": "2022-12-22T08:24:44.551Z"
   },
   {
    "duration": 14,
    "start_time": "2022-12-22T08:24:44.557Z"
   },
   {
    "duration": 22,
    "start_time": "2022-12-22T08:24:44.572Z"
   },
   {
    "duration": 18,
    "start_time": "2022-12-22T08:24:44.596Z"
   },
   {
    "duration": 175,
    "start_time": "2022-12-22T08:24:44.616Z"
   },
   {
    "duration": 21,
    "start_time": "2022-12-22T08:24:44.793Z"
   },
   {
    "duration": 189,
    "start_time": "2022-12-22T08:24:44.817Z"
   },
   {
    "duration": 120,
    "start_time": "2022-12-22T08:44:23.916Z"
   },
   {
    "duration": 4,
    "start_time": "2022-12-22T08:44:29.476Z"
   },
   {
    "duration": 1515,
    "start_time": "2022-12-22T08:44:30.124Z"
   },
   {
    "duration": 1480,
    "start_time": "2022-12-22T11:22:22.788Z"
   },
   {
    "duration": 4,
    "start_time": "2022-12-22T11:22:24.270Z"
   },
   {
    "duration": 934,
    "start_time": "2022-12-22T11:22:24.275Z"
   },
   {
    "duration": 37,
    "start_time": "2022-12-22T11:22:25.212Z"
   },
   {
    "duration": 164,
    "start_time": "2022-12-22T11:22:25.252Z"
   },
   {
    "duration": 22,
    "start_time": "2022-12-22T11:22:25.418Z"
   },
   {
    "duration": 199,
    "start_time": "2022-12-22T11:22:25.441Z"
   },
   {
    "duration": 20,
    "start_time": "2022-12-22T11:22:25.642Z"
   },
   {
    "duration": 167,
    "start_time": "2022-12-22T11:22:25.664Z"
   },
   {
    "duration": 12,
    "start_time": "2022-12-22T11:22:25.834Z"
   },
   {
    "duration": 63,
    "start_time": "2022-12-22T11:22:25.848Z"
   },
   {
    "duration": 3,
    "start_time": "2022-12-22T11:22:25.913Z"
   },
   {
    "duration": 162,
    "start_time": "2022-12-22T11:22:25.918Z"
   },
   {
    "duration": 197,
    "start_time": "2022-12-22T11:22:26.084Z"
   },
   {
    "duration": 197,
    "start_time": "2022-12-22T11:22:26.282Z"
   },
   {
    "duration": 110,
    "start_time": "2022-12-22T11:22:26.480Z"
   },
   {
    "duration": 18,
    "start_time": "2022-12-22T11:22:26.592Z"
   },
   {
    "duration": 23,
    "start_time": "2022-12-22T11:22:26.612Z"
   },
   {
    "duration": 41,
    "start_time": "2022-12-22T11:22:26.637Z"
   },
   {
    "duration": 4,
    "start_time": "2022-12-22T11:22:26.680Z"
   },
   {
    "duration": 15,
    "start_time": "2022-12-22T11:22:26.685Z"
   },
   {
    "duration": 17,
    "start_time": "2022-12-22T11:22:26.702Z"
   },
   {
    "duration": 18,
    "start_time": "2022-12-22T11:22:26.721Z"
   },
   {
    "duration": 160,
    "start_time": "2022-12-22T11:22:26.741Z"
   },
   {
    "duration": 15,
    "start_time": "2022-12-22T11:22:26.903Z"
   },
   {
    "duration": 170,
    "start_time": "2022-12-22T11:22:26.920Z"
   },
   {
    "duration": 8,
    "start_time": "2022-12-22T11:26:56.047Z"
   },
   {
    "duration": 8,
    "start_time": "2022-12-22T11:27:26.008Z"
   },
   {
    "duration": 4,
    "start_time": "2022-12-22T11:29:57.817Z"
   },
   {
    "duration": 800,
    "start_time": "2022-12-22T11:30:00.970Z"
   },
   {
    "duration": 3,
    "start_time": "2022-12-22T11:30:26.027Z"
   },
   {
    "duration": 1629,
    "start_time": "2022-12-22T11:30:28.579Z"
   },
   {
    "duration": 1483,
    "start_time": "2022-12-22T11:31:23.451Z"
   },
   {
    "duration": 1573,
    "start_time": "2022-12-22T11:31:37.660Z"
   },
   {
    "duration": 1535,
    "start_time": "2022-12-22T11:31:56.539Z"
   },
   {
    "duration": 3,
    "start_time": "2022-12-22T11:32:26.364Z"
   },
   {
    "duration": 1610,
    "start_time": "2022-12-22T11:32:27.675Z"
   },
   {
    "duration": 3,
    "start_time": "2022-12-22T11:33:37.693Z"
   },
   {
    "duration": 4485,
    "start_time": "2022-12-22T11:35:05.139Z"
   },
   {
    "duration": 5,
    "start_time": "2022-12-22T11:35:22.302Z"
   },
   {
    "duration": 4416,
    "start_time": "2022-12-22T11:35:27.070Z"
   },
   {
    "duration": 4,
    "start_time": "2022-12-22T11:35:52.704Z"
   },
   {
    "duration": 16,
    "start_time": "2022-12-22T11:37:15.761Z"
   },
   {
    "duration": 4437,
    "start_time": "2022-12-22T11:37:51.905Z"
   },
   {
    "duration": 16,
    "start_time": "2022-12-22T11:38:14.003Z"
   },
   {
    "duration": 1599,
    "start_time": "2022-12-22T11:38:26.513Z"
   },
   {
    "duration": 1431,
    "start_time": "2022-12-22T11:38:44.155Z"
   },
   {
    "duration": 1430,
    "start_time": "2022-12-22T11:38:53.795Z"
   },
   {
    "duration": 3,
    "start_time": "2022-12-22T11:39:05.106Z"
   },
   {
    "duration": 1539,
    "start_time": "2022-12-22T11:39:06.982Z"
   },
   {
    "duration": 1530,
    "start_time": "2022-12-22T11:39:18.474Z"
   },
   {
    "duration": 1493,
    "start_time": "2022-12-22T11:39:22.887Z"
   },
   {
    "duration": 1514,
    "start_time": "2022-12-22T11:39:45.556Z"
   },
   {
    "duration": 1510,
    "start_time": "2022-12-22T11:40:28.500Z"
   },
   {
    "duration": 1532,
    "start_time": "2022-12-22T11:40:38.220Z"
   },
   {
    "duration": 1504,
    "start_time": "2022-12-22T11:40:44.548Z"
   },
   {
    "duration": 1546,
    "start_time": "2022-12-22T11:40:57.595Z"
   },
   {
    "duration": 3,
    "start_time": "2022-12-22T11:40:59.916Z"
   },
   {
    "duration": 1474,
    "start_time": "2022-12-22T11:41:02.500Z"
   },
   {
    "duration": 1472,
    "start_time": "2022-12-22T11:43:39.063Z"
   },
   {
    "duration": 3,
    "start_time": "2022-12-22T11:45:40.666Z"
   },
   {
    "duration": 1494,
    "start_time": "2022-12-22T11:46:25.930Z"
   },
   {
    "duration": 4330,
    "start_time": "2022-12-22T11:46:41.707Z"
   },
   {
    "duration": 4411,
    "start_time": "2022-12-22T11:47:13.102Z"
   },
   {
    "duration": 4382,
    "start_time": "2022-12-22T11:48:04.843Z"
   },
   {
    "duration": 57,
    "start_time": "2022-12-22T11:48:18.724Z"
   },
   {
    "duration": 4618,
    "start_time": "2022-12-22T11:48:24.253Z"
   },
   {
    "duration": 1464,
    "start_time": "2022-12-22T11:49:31.110Z"
   },
   {
    "duration": 5,
    "start_time": "2022-12-22T11:49:48.157Z"
   },
   {
    "duration": 4,
    "start_time": "2022-12-22T11:49:52.278Z"
   },
   {
    "duration": 11,
    "start_time": "2022-12-22T11:50:12.990Z"
   },
   {
    "duration": 11,
    "start_time": "2022-12-22T11:50:18.254Z"
   },
   {
    "duration": 11,
    "start_time": "2022-12-22T11:50:28.775Z"
   },
   {
    "duration": 5,
    "start_time": "2022-12-22T11:50:41.727Z"
   },
   {
    "duration": 4466,
    "start_time": "2022-12-22T11:50:52.616Z"
   },
   {
    "duration": 4595,
    "start_time": "2022-12-22T11:51:14.544Z"
   },
   {
    "duration": 4393,
    "start_time": "2022-12-22T11:51:22.871Z"
   },
   {
    "duration": 4492,
    "start_time": "2022-12-22T11:51:35.520Z"
   },
   {
    "duration": 2961,
    "start_time": "2022-12-22T11:52:05.247Z"
   },
   {
    "duration": 4652,
    "start_time": "2022-12-22T11:52:15.624Z"
   },
   {
    "duration": 4955,
    "start_time": "2022-12-22T11:52:40.280Z"
   },
   {
    "duration": 1459,
    "start_time": "2022-12-22T11:53:05.611Z"
   },
   {
    "duration": 1454,
    "start_time": "2022-12-22T11:53:12.274Z"
   },
   {
    "duration": 1475,
    "start_time": "2022-12-22T11:53:21.041Z"
   },
   {
    "duration": 4553,
    "start_time": "2022-12-22T11:53:32.033Z"
   },
   {
    "duration": 12,
    "start_time": "2022-12-22T11:53:59.386Z"
   },
   {
    "duration": 4440,
    "start_time": "2022-12-22T11:54:06.722Z"
   },
   {
    "duration": 4390,
    "start_time": "2022-12-22T11:55:19.556Z"
   },
   {
    "duration": 1436,
    "start_time": "2022-12-22T11:55:34.804Z"
   },
   {
    "duration": 1446,
    "start_time": "2022-12-22T11:55:42.580Z"
   },
   {
    "duration": 4,
    "start_time": "2022-12-22T11:55:55.563Z"
   },
   {
    "duration": 4,
    "start_time": "2022-12-22T11:56:01.028Z"
   },
   {
    "duration": 4,
    "start_time": "2022-12-22T11:56:04.196Z"
   },
   {
    "duration": 1505,
    "start_time": "2022-12-22T11:56:11.293Z"
   },
   {
    "duration": 1466,
    "start_time": "2022-12-22T11:56:21.917Z"
   },
   {
    "duration": 11,
    "start_time": "2022-12-22T11:56:38.399Z"
   },
   {
    "duration": 9,
    "start_time": "2022-12-22T11:56:41.781Z"
   },
   {
    "duration": 4,
    "start_time": "2022-12-22T11:56:53.221Z"
   },
   {
    "duration": 1510,
    "start_time": "2022-12-22T11:57:07.133Z"
   },
   {
    "duration": 4487,
    "start_time": "2022-12-22T11:57:29.845Z"
   },
   {
    "duration": 1473,
    "start_time": "2022-12-22T11:58:08.351Z"
   },
   {
    "duration": 1473,
    "start_time": "2022-12-22T11:58:45.343Z"
   },
   {
    "duration": 1459,
    "start_time": "2022-12-22T11:58:52.759Z"
   },
   {
    "duration": 1465,
    "start_time": "2022-12-22T12:00:02.928Z"
   },
   {
    "duration": 4465,
    "start_time": "2022-12-22T12:00:08.415Z"
   },
   {
    "duration": 4338,
    "start_time": "2022-12-22T12:01:48.801Z"
   },
   {
    "duration": 4,
    "start_time": "2022-12-22T12:01:57.577Z"
   },
   {
    "duration": 12,
    "start_time": "2022-12-22T12:02:47.746Z"
   },
   {
    "duration": 4,
    "start_time": "2022-12-22T12:02:56.635Z"
   },
   {
    "duration": 4504,
    "start_time": "2022-12-22T12:02:59.539Z"
   },
   {
    "duration": 1487,
    "start_time": "2022-12-22T12:05:03.820Z"
   },
   {
    "duration": 1464,
    "start_time": "2022-12-22T12:05:28.956Z"
   },
   {
    "duration": 1469,
    "start_time": "2022-12-22T12:05:40.197Z"
   },
   {
    "duration": 4,
    "start_time": "2022-12-22T12:05:49.581Z"
   },
   {
    "duration": 1426,
    "start_time": "2022-12-22T12:05:52.069Z"
   },
   {
    "duration": 1440,
    "start_time": "2022-12-22T12:06:20.863Z"
   },
   {
    "duration": 4,
    "start_time": "2022-12-22T12:06:23.517Z"
   },
   {
    "duration": 1479,
    "start_time": "2022-12-22T12:06:24.958Z"
   },
   {
    "duration": 1513,
    "start_time": "2022-12-22T12:06:34.573Z"
   },
   {
    "duration": 4403,
    "start_time": "2022-12-22T12:06:56.166Z"
   },
   {
    "duration": 4591,
    "start_time": "2022-12-22T12:08:13.288Z"
   },
   {
    "duration": 4507,
    "start_time": "2022-12-22T12:08:29.327Z"
   },
   {
    "duration": 4,
    "start_time": "2022-12-22T12:09:07.984Z"
   },
   {
    "duration": 4558,
    "start_time": "2022-12-22T12:09:15.059Z"
   },
   {
    "duration": 4454,
    "start_time": "2022-12-22T12:09:20.912Z"
   },
   {
    "duration": 3,
    "start_time": "2022-12-22T12:09:53.482Z"
   },
   {
    "duration": 4578,
    "start_time": "2022-12-22T12:09:59.146Z"
   },
   {
    "duration": 4672,
    "start_time": "2022-12-22T12:10:04.681Z"
   },
   {
    "duration": 4,
    "start_time": "2022-12-22T12:10:14.218Z"
   },
   {
    "duration": 4474,
    "start_time": "2022-12-22T12:10:21.994Z"
   },
   {
    "duration": 4942,
    "start_time": "2022-12-22T12:10:33.473Z"
   },
   {
    "duration": 5027,
    "start_time": "2022-12-22T12:10:41.338Z"
   },
   {
    "duration": 4599,
    "start_time": "2022-12-22T12:10:49.418Z"
   },
   {
    "duration": 4700,
    "start_time": "2022-12-22T12:11:26.804Z"
   },
   {
    "duration": 4752,
    "start_time": "2022-12-22T12:11:42.299Z"
   },
   {
    "duration": 5,
    "start_time": "2022-12-22T12:12:12.435Z"
   },
   {
    "duration": 10,
    "start_time": "2022-12-22T12:13:44.900Z"
   },
   {
    "duration": 9,
    "start_time": "2022-12-22T12:13:51.725Z"
   },
   {
    "duration": 10,
    "start_time": "2022-12-22T12:13:55.349Z"
   },
   {
    "duration": 10,
    "start_time": "2022-12-22T12:13:59.165Z"
   },
   {
    "duration": 4773,
    "start_time": "2022-12-22T12:14:55.141Z"
   },
   {
    "duration": 4647,
    "start_time": "2022-12-22T12:15:01.999Z"
   },
   {
    "duration": 5071,
    "start_time": "2022-12-22T12:15:08.958Z"
   },
   {
    "duration": 5,
    "start_time": "2022-12-22T12:16:15.920Z"
   },
   {
    "duration": 4887,
    "start_time": "2022-12-22T12:16:30.761Z"
   },
   {
    "duration": 55,
    "start_time": "2022-12-22T12:17:42.521Z"
   },
   {
    "duration": 77,
    "start_time": "2022-12-22T12:18:05.817Z"
   },
   {
    "duration": 17,
    "start_time": "2022-12-22T12:18:50.962Z"
   },
   {
    "duration": 18,
    "start_time": "2022-12-22T12:19:12.828Z"
   },
   {
    "duration": 4766,
    "start_time": "2022-12-22T12:19:19.555Z"
   },
   {
    "duration": 4815,
    "start_time": "2022-12-22T12:19:30.378Z"
   },
   {
    "duration": 4704,
    "start_time": "2022-12-22T12:23:47.363Z"
   },
   {
    "duration": 4754,
    "start_time": "2022-12-22T12:23:54.091Z"
   },
   {
    "duration": 4642,
    "start_time": "2022-12-22T12:24:01.128Z"
   },
   {
    "duration": 4617,
    "start_time": "2022-12-22T12:24:11.464Z"
   },
   {
    "duration": 4676,
    "start_time": "2022-12-22T12:24:18.423Z"
   },
   {
    "duration": 4878,
    "start_time": "2022-12-22T12:24:25.066Z"
   },
   {
    "duration": 4643,
    "start_time": "2022-12-22T12:24:31.248Z"
   },
   {
    "duration": 4719,
    "start_time": "2022-12-22T12:24:37.884Z"
   },
   {
    "duration": 5,
    "start_time": "2022-12-22T12:24:50.884Z"
   },
   {
    "duration": 162,
    "start_time": "2022-12-22T12:25:20.777Z"
   },
   {
    "duration": 150,
    "start_time": "2022-12-22T12:26:29.401Z"
   },
   {
    "duration": 164,
    "start_time": "2022-12-22T12:26:42.138Z"
   },
   {
    "duration": 62,
    "start_time": "2022-12-22T12:28:15.747Z"
   },
   {
    "duration": 1523,
    "start_time": "2022-12-22T12:28:21.003Z"
   },
   {
    "duration": 4777,
    "start_time": "2022-12-22T12:29:25.669Z"
   },
   {
    "duration": 4624,
    "start_time": "2022-12-22T12:29:32.021Z"
   },
   {
    "duration": 4742,
    "start_time": "2022-12-22T12:29:38.757Z"
   },
   {
    "duration": 8,
    "start_time": "2022-12-22T12:29:48.245Z"
   },
   {
    "duration": 4785,
    "start_time": "2022-12-22T12:29:50.634Z"
   },
   {
    "duration": 4782,
    "start_time": "2022-12-22T12:29:57.501Z"
   },
   {
    "duration": 4763,
    "start_time": "2022-12-22T12:30:04.335Z"
   },
   {
    "duration": 7,
    "start_time": "2022-12-22T12:30:09.682Z"
   },
   {
    "duration": 4793,
    "start_time": "2022-12-22T12:30:12.445Z"
   },
   {
    "duration": 4913,
    "start_time": "2022-12-22T12:30:18.384Z"
   },
   {
    "duration": 4831,
    "start_time": "2022-12-22T12:30:41.498Z"
   },
   {
    "duration": 4851,
    "start_time": "2022-12-22T12:30:48.166Z"
   },
   {
    "duration": 5128,
    "start_time": "2022-12-22T12:30:55.021Z"
   },
   {
    "duration": 4754,
    "start_time": "2022-12-22T12:31:03.574Z"
   },
   {
    "duration": 4810,
    "start_time": "2022-12-22T12:31:09.993Z"
   },
   {
    "duration": 5076,
    "start_time": "2022-12-22T12:31:16.207Z"
   },
   {
    "duration": 4784,
    "start_time": "2022-12-22T12:31:23.090Z"
   },
   {
    "duration": 4678,
    "start_time": "2022-12-22T12:31:29.264Z"
   },
   {
    "duration": 4750,
    "start_time": "2022-12-22T12:31:35.519Z"
   },
   {
    "duration": 4,
    "start_time": "2022-12-22T12:31:43.200Z"
   },
   {
    "duration": 166,
    "start_time": "2022-12-22T12:32:12.352Z"
   },
   {
    "duration": 149,
    "start_time": "2022-12-22T12:32:21.553Z"
   },
   {
    "duration": 161,
    "start_time": "2022-12-22T12:35:09.266Z"
   },
   {
    "duration": 162,
    "start_time": "2022-12-22T12:35:33.315Z"
   },
   {
    "duration": 60,
    "start_time": "2022-12-22T12:36:27.879Z"
   },
   {
    "duration": 194,
    "start_time": "2022-12-22T12:36:34.124Z"
   },
   {
    "duration": 5,
    "start_time": "2022-12-22T12:39:31.859Z"
   },
   {
    "duration": 178,
    "start_time": "2022-12-22T12:39:52.023Z"
   },
   {
    "duration": 184,
    "start_time": "2022-12-22T12:40:12.136Z"
   },
   {
    "duration": 5,
    "start_time": "2022-12-22T12:41:22.376Z"
   },
   {
    "duration": 163,
    "start_time": "2022-12-22T12:41:36.233Z"
   },
   {
    "duration": 7,
    "start_time": "2022-12-22T12:41:53.777Z"
   },
   {
    "duration": 200,
    "start_time": "2022-12-22T12:41:58.313Z"
   },
   {
    "duration": 179,
    "start_time": "2022-12-22T12:42:08.894Z"
   },
   {
    "duration": 157,
    "start_time": "2022-12-22T12:42:15.017Z"
   },
   {
    "duration": 309,
    "start_time": "2022-12-22T12:42:18.297Z"
   },
   {
    "duration": 1810,
    "start_time": "2022-12-23T07:15:34.300Z"
   },
   {
    "duration": 3,
    "start_time": "2022-12-23T07:15:36.112Z"
   },
   {
    "duration": 366,
    "start_time": "2022-12-23T07:15:36.116Z"
   },
   {
    "duration": 24,
    "start_time": "2022-12-23T07:15:36.484Z"
   },
   {
    "duration": 160,
    "start_time": "2022-12-23T07:15:36.510Z"
   },
   {
    "duration": 19,
    "start_time": "2022-12-23T07:15:36.671Z"
   },
   {
    "duration": 168,
    "start_time": "2022-12-23T07:15:36.691Z"
   },
   {
    "duration": 19,
    "start_time": "2022-12-23T07:15:36.861Z"
   },
   {
    "duration": 156,
    "start_time": "2022-12-23T07:15:36.882Z"
   },
   {
    "duration": 10,
    "start_time": "2022-12-23T07:15:37.040Z"
   },
   {
    "duration": 41,
    "start_time": "2022-12-23T07:15:37.052Z"
   },
   {
    "duration": 31,
    "start_time": "2022-12-23T07:15:37.094Z"
   },
   {
    "duration": 203,
    "start_time": "2022-12-23T07:15:37.127Z"
   },
   {
    "duration": 108,
    "start_time": "2022-12-23T07:15:37.332Z"
   },
   {
    "duration": 105,
    "start_time": "2022-12-23T07:15:37.522Z"
   },
   {
    "duration": 15,
    "start_time": "2022-12-23T07:15:37.629Z"
   },
   {
    "duration": 26,
    "start_time": "2022-12-23T07:15:37.646Z"
   },
   {
    "duration": 18,
    "start_time": "2022-12-23T07:15:37.673Z"
   },
   {
    "duration": 3,
    "start_time": "2022-12-23T07:15:37.693Z"
   },
   {
    "duration": 27,
    "start_time": "2022-12-23T07:15:37.698Z"
   },
   {
    "duration": 18,
    "start_time": "2022-12-23T07:15:37.727Z"
   },
   {
    "duration": 38,
    "start_time": "2022-12-23T07:15:37.746Z"
   },
   {
    "duration": 151,
    "start_time": "2022-12-23T07:15:37.786Z"
   },
   {
    "duration": 13,
    "start_time": "2022-12-23T07:15:37.939Z"
   },
   {
    "duration": 173,
    "start_time": "2022-12-23T07:15:37.954Z"
   },
   {
    "duration": 3,
    "start_time": "2022-12-23T07:15:38.129Z"
   },
   {
    "duration": 3998,
    "start_time": "2022-12-23T07:15:38.134Z"
   },
   {
    "duration": 140,
    "start_time": "2022-12-23T07:15:42.135Z"
   },
   {
    "duration": 201,
    "start_time": "2022-12-23T07:15:42.276Z"
   },
   {
    "duration": 12,
    "start_time": "2022-12-23T07:30:55.721Z"
   },
   {
    "duration": 4,
    "start_time": "2022-12-23T07:31:20.090Z"
   },
   {
    "duration": 15,
    "start_time": "2022-12-23T07:40:26.951Z"
   },
   {
    "duration": 9,
    "start_time": "2022-12-23T07:41:37.662Z"
   },
   {
    "duration": 4221,
    "start_time": "2022-12-23T07:42:00.936Z"
   },
   {
    "duration": 1805,
    "start_time": "2022-12-23T07:43:48.794Z"
   },
   {
    "duration": 3,
    "start_time": "2022-12-23T07:43:50.601Z"
   },
   {
    "duration": 365,
    "start_time": "2022-12-23T07:43:50.605Z"
   },
   {
    "duration": 23,
    "start_time": "2022-12-23T07:43:50.972Z"
   },
   {
    "duration": 173,
    "start_time": "2022-12-23T07:43:50.996Z"
   },
   {
    "duration": 18,
    "start_time": "2022-12-23T07:43:51.171Z"
   },
   {
    "duration": 170,
    "start_time": "2022-12-23T07:43:51.191Z"
   },
   {
    "duration": 19,
    "start_time": "2022-12-23T07:43:51.363Z"
   },
   {
    "duration": 178,
    "start_time": "2022-12-23T07:43:51.383Z"
   },
   {
    "duration": 10,
    "start_time": "2022-12-23T07:43:51.565Z"
   },
   {
    "duration": 50,
    "start_time": "2022-12-23T07:43:51.576Z"
   },
   {
    "duration": 95,
    "start_time": "2022-12-23T07:43:51.639Z"
   },
   {
    "duration": 108,
    "start_time": "2022-12-23T07:43:51.738Z"
   },
   {
    "duration": 189,
    "start_time": "2022-12-23T07:43:51.848Z"
   },
   {
    "duration": 110,
    "start_time": "2022-12-23T07:43:52.041Z"
   },
   {
    "duration": 14,
    "start_time": "2022-12-23T07:43:52.153Z"
   },
   {
    "duration": 26,
    "start_time": "2022-12-23T07:43:52.169Z"
   },
   {
    "duration": 47,
    "start_time": "2022-12-23T07:43:52.197Z"
   },
   {
    "duration": 4,
    "start_time": "2022-12-23T07:43:52.246Z"
   },
   {
    "duration": 9,
    "start_time": "2022-12-23T07:43:52.251Z"
   },
   {
    "duration": 4,
    "start_time": "2022-12-23T07:43:52.262Z"
   },
   {
    "duration": 18,
    "start_time": "2022-12-23T07:43:52.267Z"
   },
   {
    "duration": 178,
    "start_time": "2022-12-23T07:43:52.287Z"
   },
   {
    "duration": 14,
    "start_time": "2022-12-23T07:43:52.467Z"
   },
   {
    "duration": 167,
    "start_time": "2022-12-23T07:43:52.482Z"
   },
   {
    "duration": 3,
    "start_time": "2022-12-23T07:43:52.651Z"
   },
   {
    "duration": 4291,
    "start_time": "2022-12-23T07:43:52.655Z"
   },
   {
    "duration": 140,
    "start_time": "2022-12-23T07:43:56.948Z"
   },
   {
    "duration": 197,
    "start_time": "2022-12-23T07:43:57.090Z"
   },
   {
    "duration": 138,
    "start_time": "2022-12-23T09:28:56.551Z"
   },
   {
    "duration": 39,
    "start_time": "2022-12-23T09:30:37.645Z"
   },
   {
    "duration": 1476,
    "start_time": "2022-12-23T09:30:46.546Z"
   },
   {
    "duration": 4,
    "start_time": "2022-12-23T09:31:02.998Z"
   },
   {
    "duration": 3,
    "start_time": "2022-12-23T09:31:09.099Z"
   },
   {
    "duration": 13,
    "start_time": "2022-12-23T09:31:09.104Z"
   },
   {
    "duration": 2086,
    "start_time": "2022-12-23T09:31:09.119Z"
   },
   {
    "duration": 34,
    "start_time": "2022-12-23T09:31:11.206Z"
   },
   {
    "duration": 152,
    "start_time": "2022-12-23T09:31:11.242Z"
   },
   {
    "duration": 19,
    "start_time": "2022-12-23T09:31:11.395Z"
   },
   {
    "duration": 151,
    "start_time": "2022-12-23T09:31:11.429Z"
   },
   {
    "duration": 51,
    "start_time": "2022-12-23T09:31:11.582Z"
   },
   {
    "duration": 156,
    "start_time": "2022-12-23T09:31:11.635Z"
   },
   {
    "duration": 11,
    "start_time": "2022-12-23T09:31:11.792Z"
   },
   {
    "duration": 49,
    "start_time": "2022-12-23T09:31:11.806Z"
   },
   {
    "duration": 176,
    "start_time": "2022-12-23T09:31:11.857Z"
   },
   {
    "duration": 101,
    "start_time": "2022-12-23T09:31:12.035Z"
   },
   {
    "duration": 189,
    "start_time": "2022-12-23T09:31:12.138Z"
   },
   {
    "duration": 112,
    "start_time": "2022-12-23T09:31:12.330Z"
   },
   {
    "duration": 27,
    "start_time": "2022-12-23T09:31:12.444Z"
   },
   {
    "duration": 20,
    "start_time": "2022-12-23T09:31:12.473Z"
   },
   {
    "duration": 14,
    "start_time": "2022-12-23T09:31:12.495Z"
   },
   {
    "duration": 4,
    "start_time": "2022-12-23T09:31:12.527Z"
   },
   {
    "duration": 12,
    "start_time": "2022-12-23T09:31:12.539Z"
   },
   {
    "duration": 4,
    "start_time": "2022-12-23T09:31:12.553Z"
   },
   {
    "duration": 18,
    "start_time": "2022-12-23T09:31:12.559Z"
   },
   {
    "duration": 150,
    "start_time": "2022-12-23T09:31:12.579Z"
   },
   {
    "duration": 13,
    "start_time": "2022-12-23T09:31:12.733Z"
   },
   {
    "duration": 145,
    "start_time": "2022-12-23T09:31:12.748Z"
   },
   {
    "duration": 3,
    "start_time": "2022-12-23T09:31:12.895Z"
   },
   {
    "duration": 4284,
    "start_time": "2022-12-23T09:31:12.899Z"
   },
   {
    "duration": 144,
    "start_time": "2022-12-23T09:31:17.184Z"
   },
   {
    "duration": 133,
    "start_time": "2022-12-23T09:31:17.331Z"
   },
   {
    "duration": 51,
    "start_time": "2022-12-23T09:35:18.758Z"
   },
   {
    "duration": 77,
    "start_time": "2022-12-23T09:38:04.822Z"
   },
   {
    "duration": 11,
    "start_time": "2022-12-23T09:38:14.842Z"
   },
   {
    "duration": 18,
    "start_time": "2022-12-23T09:38:36.981Z"
   },
   {
    "duration": 21,
    "start_time": "2022-12-23T09:38:45.227Z"
   },
   {
    "duration": 14,
    "start_time": "2022-12-23T09:39:18.166Z"
   },
   {
    "duration": 40,
    "start_time": "2022-12-23T09:39:37.423Z"
   },
   {
    "duration": 287,
    "start_time": "2022-12-23T09:42:27.297Z"
   },
   {
    "duration": 12,
    "start_time": "2022-12-23T09:43:29.137Z"
   },
   {
    "duration": 347,
    "start_time": "2022-12-23T09:43:38.488Z"
   },
   {
    "duration": 296,
    "start_time": "2022-12-23T09:44:33.848Z"
   },
   {
    "duration": 85,
    "start_time": "2022-12-23T09:45:00.168Z"
   },
   {
    "duration": 72,
    "start_time": "2022-12-23T09:45:06.043Z"
   },
   {
    "duration": 72,
    "start_time": "2022-12-23T09:45:10.550Z"
   },
   {
    "duration": 323,
    "start_time": "2022-12-23T09:45:16.199Z"
   },
   {
    "duration": 123,
    "start_time": "2022-12-23T09:45:23.212Z"
   },
   {
    "duration": 326,
    "start_time": "2022-12-23T09:45:31.008Z"
   },
   {
    "duration": 291,
    "start_time": "2022-12-23T09:55:03.014Z"
   },
   {
    "duration": 390,
    "start_time": "2022-12-23T09:57:03.017Z"
   },
   {
    "duration": 80,
    "start_time": "2022-12-23T09:57:08.093Z"
   },
   {
    "duration": 297,
    "start_time": "2022-12-23T09:57:17.305Z"
   },
   {
    "duration": 314,
    "start_time": "2022-12-23T09:58:27.294Z"
   },
   {
    "duration": 286,
    "start_time": "2022-12-23T09:58:55.161Z"
   },
   {
    "duration": 349,
    "start_time": "2022-12-23T09:59:13.594Z"
   },
   {
    "duration": 32,
    "start_time": "2022-12-23T10:06:44.155Z"
   },
   {
    "duration": 37,
    "start_time": "2022-12-23T10:06:52.155Z"
   },
   {
    "duration": 32,
    "start_time": "2022-12-23T10:07:07.419Z"
   },
   {
    "duration": 10,
    "start_time": "2022-12-23T10:07:17.008Z"
   },
   {
    "duration": 37,
    "start_time": "2022-12-23T10:07:17.546Z"
   },
   {
    "duration": 39,
    "start_time": "2022-12-23T10:07:19.116Z"
   },
   {
    "duration": 37,
    "start_time": "2022-12-23T10:07:33.293Z"
   },
   {
    "duration": 20,
    "start_time": "2022-12-23T10:08:01.146Z"
   },
   {
    "duration": 19,
    "start_time": "2022-12-23T10:08:08.090Z"
   },
   {
    "duration": 33,
    "start_time": "2022-12-23T10:08:11.819Z"
   },
   {
    "duration": 26,
    "start_time": "2022-12-23T10:08:14.875Z"
   },
   {
    "duration": 16,
    "start_time": "2022-12-23T10:08:17.772Z"
   },
   {
    "duration": 91,
    "start_time": "2022-12-23T10:08:19.837Z"
   },
   {
    "duration": 16,
    "start_time": "2022-12-23T10:08:24.315Z"
   },
   {
    "duration": 16,
    "start_time": "2022-12-23T10:08:33.322Z"
   },
   {
    "duration": 20,
    "start_time": "2022-12-23T10:08:35.596Z"
   },
   {
    "duration": 19,
    "start_time": "2022-12-23T10:08:41.147Z"
   },
   {
    "duration": 57,
    "start_time": "2022-12-23T10:08:45.468Z"
   },
   {
    "duration": 4,
    "start_time": "2022-12-23T10:08:54.694Z"
   },
   {
    "duration": 10,
    "start_time": "2022-12-23T10:08:54.700Z"
   },
   {
    "duration": 355,
    "start_time": "2022-12-23T10:08:54.712Z"
   },
   {
    "duration": 23,
    "start_time": "2022-12-23T10:08:55.070Z"
   },
   {
    "duration": 160,
    "start_time": "2022-12-23T10:08:55.095Z"
   },
   {
    "duration": 21,
    "start_time": "2022-12-23T10:08:55.257Z"
   },
   {
    "duration": 213,
    "start_time": "2022-12-23T10:08:55.280Z"
   },
   {
    "duration": 38,
    "start_time": "2022-12-23T10:08:55.495Z"
   },
   {
    "duration": 217,
    "start_time": "2022-12-23T10:08:55.535Z"
   },
   {
    "duration": 47,
    "start_time": "2022-12-23T10:08:55.754Z"
   },
   {
    "duration": 328,
    "start_time": "2022-12-23T10:08:55.803Z"
   },
   {
    "duration": 295,
    "start_time": "2022-12-23T10:08:56.133Z"
   },
   {
    "duration": 314,
    "start_time": "2022-12-23T10:08:56.430Z"
   },
   {
    "duration": 9,
    "start_time": "2022-12-23T10:08:56.748Z"
   },
   {
    "duration": 49,
    "start_time": "2022-12-23T10:08:56.759Z"
   },
   {
    "duration": 57,
    "start_time": "2022-12-23T10:09:00.282Z"
   },
   {
    "duration": 17,
    "start_time": "2022-12-23T10:09:01.899Z"
   },
   {
    "duration": 17,
    "start_time": "2022-12-23T10:09:03.659Z"
   },
   {
    "duration": 4,
    "start_time": "2022-12-23T10:11:27.517Z"
   },
   {
    "duration": 15,
    "start_time": "2022-12-23T10:12:40.543Z"
   },
   {
    "duration": 14,
    "start_time": "2022-12-23T10:12:43.040Z"
   },
   {
    "duration": 17,
    "start_time": "2022-12-23T10:12:49.629Z"
   },
   {
    "duration": 13,
    "start_time": "2022-12-23T10:12:52.188Z"
   },
   {
    "duration": 70,
    "start_time": "2022-12-23T10:13:26.253Z"
   },
   {
    "duration": 1649,
    "start_time": "2022-12-24T05:05:32.946Z"
   },
   {
    "duration": 5,
    "start_time": "2022-12-24T05:05:34.597Z"
   },
   {
    "duration": 859,
    "start_time": "2022-12-24T05:05:34.604Z"
   },
   {
    "duration": 42,
    "start_time": "2022-12-24T05:05:35.465Z"
   },
   {
    "duration": 167,
    "start_time": "2022-12-24T05:05:35.511Z"
   },
   {
    "duration": 35,
    "start_time": "2022-12-24T05:05:35.680Z"
   },
   {
    "duration": 171,
    "start_time": "2022-12-24T05:05:35.717Z"
   },
   {
    "duration": 37,
    "start_time": "2022-12-24T05:05:35.890Z"
   },
   {
    "duration": 211,
    "start_time": "2022-12-24T05:05:35.929Z"
   },
   {
    "duration": 82,
    "start_time": "2022-12-24T05:05:36.142Z"
   },
   {
    "duration": 462,
    "start_time": "2022-12-24T05:05:36.227Z"
   },
   {
    "duration": 423,
    "start_time": "2022-12-24T05:05:36.692Z"
   },
   {
    "duration": 337,
    "start_time": "2022-12-24T05:05:37.117Z"
   },
   {
    "duration": 10,
    "start_time": "2022-12-24T05:05:37.457Z"
   },
   {
    "duration": 56,
    "start_time": "2022-12-24T05:05:37.469Z"
   },
   {
    "duration": 197,
    "start_time": "2022-12-24T05:05:37.527Z"
   },
   {
    "duration": 187,
    "start_time": "2022-12-24T05:05:37.729Z"
   },
   {
    "duration": 101,
    "start_time": "2022-12-24T05:05:37.919Z"
   },
   {
    "duration": 17,
    "start_time": "2022-12-24T05:06:43.150Z"
   },
   {
    "duration": 22,
    "start_time": "2022-12-24T05:06:58.199Z"
   },
   {
    "duration": 20,
    "start_time": "2022-12-24T05:06:59.801Z"
   },
   {
    "duration": 21,
    "start_time": "2022-12-24T05:07:09.910Z"
   },
   {
    "duration": 3,
    "start_time": "2022-12-24T05:10:12.311Z"
   },
   {
    "duration": 4,
    "start_time": "2022-12-24T05:10:16.309Z"
   },
   {
    "duration": 8,
    "start_time": "2022-12-24T05:10:18.248Z"
   },
   {
    "duration": 4,
    "start_time": "2022-12-24T05:10:20.183Z"
   },
   {
    "duration": 19,
    "start_time": "2022-12-24T05:10:21.943Z"
   },
   {
    "duration": 163,
    "start_time": "2022-12-24T05:10:23.672Z"
   },
   {
    "duration": 18,
    "start_time": "2022-12-24T05:10:35.752Z"
   },
   {
    "duration": 146,
    "start_time": "2022-12-24T05:10:39.416Z"
   },
   {
    "duration": 4,
    "start_time": "2022-12-24T05:11:02.086Z"
   },
   {
    "duration": 6312,
    "start_time": "2022-12-24T05:41:48.377Z"
   },
   {
    "duration": 5189,
    "start_time": "2022-12-24T05:42:07.038Z"
   },
   {
    "duration": 230,
    "start_time": "2022-12-24T05:42:23.238Z"
   },
   {
    "duration": 151,
    "start_time": "2022-12-24T05:42:25.938Z"
   },
   {
    "duration": 4955,
    "start_time": "2022-12-24T05:43:25.386Z"
   },
   {
    "duration": 4738,
    "start_time": "2022-12-24T05:44:43.066Z"
   },
   {
    "duration": 4393,
    "start_time": "2022-12-24T05:44:51.451Z"
   },
   {
    "duration": 135,
    "start_time": "2022-12-24T05:45:02.873Z"
   },
   {
    "duration": 144,
    "start_time": "2022-12-24T05:45:05.414Z"
   },
   {
    "duration": 1961,
    "start_time": "2022-12-24T09:20:34.411Z"
   },
   {
    "duration": 3,
    "start_time": "2022-12-24T09:20:36.374Z"
   },
   {
    "duration": 922,
    "start_time": "2022-12-24T09:20:36.379Z"
   },
   {
    "duration": 22,
    "start_time": "2022-12-24T09:20:37.303Z"
   },
   {
    "duration": 155,
    "start_time": "2022-12-24T09:20:37.327Z"
   },
   {
    "duration": 28,
    "start_time": "2022-12-24T09:20:37.484Z"
   },
   {
    "duration": 148,
    "start_time": "2022-12-24T09:20:37.514Z"
   },
   {
    "duration": 19,
    "start_time": "2022-12-24T09:20:37.664Z"
   },
   {
    "duration": 145,
    "start_time": "2022-12-24T09:20:37.684Z"
   },
   {
    "duration": 38,
    "start_time": "2022-12-24T09:20:37.832Z"
   },
   {
    "duration": 357,
    "start_time": "2022-12-24T09:20:37.871Z"
   },
   {
    "duration": 352,
    "start_time": "2022-12-24T09:20:38.229Z"
   },
   {
    "duration": 317,
    "start_time": "2022-12-24T09:20:38.583Z"
   },
   {
    "duration": 14,
    "start_time": "2022-12-24T09:20:38.902Z"
   },
   {
    "duration": 37,
    "start_time": "2022-12-24T09:20:38.918Z"
   },
   {
    "duration": 150,
    "start_time": "2022-12-24T09:20:38.957Z"
   },
   {
    "duration": 101,
    "start_time": "2022-12-24T09:20:39.110Z"
   },
   {
    "duration": 187,
    "start_time": "2022-12-24T09:20:39.213Z"
   },
   {
    "duration": 98,
    "start_time": "2022-12-24T09:20:39.406Z"
   },
   {
    "duration": 12,
    "start_time": "2022-12-24T09:20:39.506Z"
   },
   {
    "duration": 23,
    "start_time": "2022-12-24T09:20:39.520Z"
   },
   {
    "duration": 18,
    "start_time": "2022-12-24T09:20:39.545Z"
   },
   {
    "duration": 4,
    "start_time": "2022-12-24T09:20:39.564Z"
   },
   {
    "duration": 30,
    "start_time": "2022-12-24T09:20:39.570Z"
   },
   {
    "duration": 7,
    "start_time": "2022-12-24T09:20:39.602Z"
   },
   {
    "duration": 15,
    "start_time": "2022-12-24T09:20:39.611Z"
   },
   {
    "duration": 154,
    "start_time": "2022-12-24T09:20:39.627Z"
   },
   {
    "duration": 21,
    "start_time": "2022-12-24T09:20:39.784Z"
   },
   {
    "duration": 135,
    "start_time": "2022-12-24T09:20:39.806Z"
   },
   {
    "duration": 3,
    "start_time": "2022-12-24T09:20:39.943Z"
   },
   {
    "duration": 3719,
    "start_time": "2022-12-24T09:20:39.948Z"
   },
   {
    "duration": 133,
    "start_time": "2022-12-24T09:20:43.669Z"
   },
   {
    "duration": 122,
    "start_time": "2022-12-24T09:20:43.804Z"
   }
  ],
  "kernelspec": {
   "display_name": "Python 3 (ipykernel)",
   "language": "python",
   "name": "python3"
  },
  "language_info": {
   "codemirror_mode": {
    "name": "ipython",
    "version": 3
   },
   "file_extension": ".py",
   "mimetype": "text/x-python",
   "name": "python",
   "nbconvert_exporter": "python",
   "pygments_lexer": "ipython3",
   "version": "3.9.12"
  },
  "toc": {
   "base_numbering": 1,
   "nav_menu": {},
   "number_sections": true,
   "sideBar": true,
   "skip_h1_title": true,
   "title_cell": "Table of Contents",
   "title_sidebar": "Contents",
   "toc_cell": false,
   "toc_position": {},
   "toc_section_display": true,
   "toc_window_display": true
  }
 },
 "nbformat": 4,
 "nbformat_minor": 2
}
